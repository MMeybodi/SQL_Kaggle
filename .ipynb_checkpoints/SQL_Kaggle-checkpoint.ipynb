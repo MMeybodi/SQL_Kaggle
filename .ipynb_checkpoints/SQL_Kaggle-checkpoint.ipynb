{
 "cells": [
  {
   "cell_type": "markdown",
   "id": "b4053955-d8cd-43c4-80b2-ace71c2f8286",
   "metadata": {},
   "source": [
    "# SQL\n",
    " I use python to learn SQL. Intall pandasql (for simpler quieries) and duckdb (for more complex ones) and then load them."
   ]
  },
  {
   "cell_type": "code",
   "execution_count": 1,
   "id": "0a5cbdce-83d7-4c10-a415-a37e4c37b851",
   "metadata": {},
   "outputs": [],
   "source": [
    "#pip install pandasql"
   ]
  },
  {
   "cell_type": "code",
   "execution_count": 3,
   "id": "13cba5fc-a42f-43a1-b632-ad7eca92b435",
   "metadata": {},
   "outputs": [],
   "source": [
    "#pip install duckdb"
   ]
  },
  {
   "cell_type": "code",
   "execution_count": 58,
   "id": "62038613-f5d6-469b-a2ae-223006520659",
   "metadata": {},
   "outputs": [],
   "source": [
    "import duckdb\n",
    "from duckdb import query_df\n",
    "from pandasql import sqldf\n",
    "\n",
    "import pandas as pd\n",
    "import os"
   ]
  },
  {
   "cell_type": "code",
   "execution_count": 7,
   "id": "c4e83768-99eb-40ab-8c92-0bb985bdf094",
   "metadata": {},
   "outputs": [],
   "source": [
    "os.chdir(\"./\")"
   ]
  },
  {
   "cell_type": "code",
   "execution_count": 196,
   "id": "b71d08aa-61ef-40a0-a4eb-8dde6c1f45ff",
   "metadata": {},
   "outputs": [],
   "source": [
    "#print(os.getcwd())"
   ]
  },
  {
   "cell_type": "markdown",
   "id": "7dcee099-982f-4daa-a6d3-563005319442",
   "metadata": {},
   "source": [
    "## Load and Inspect the data\n",
    "a little reminder to how to work with data in pandas"
   ]
  },
  {
   "cell_type": "code",
   "execution_count": 12,
   "id": "e580abd2-c2fd-47e6-8b82-12add8a9b232",
   "metadata": {},
   "outputs": [],
   "source": [
    "df = pd.read_csv(\"netflix_titles.csv\")"
   ]
  },
  {
   "cell_type": "code",
   "execution_count": 14,
   "id": "07e5e174-2d02-49b6-970d-9e5d76b05c24",
   "metadata": {},
   "outputs": [
    {
     "data": {
      "text/plain": [
       "Index(['show_id', 'type', 'title', 'director', 'cast', 'country', 'date_added',\n",
       "       'release_year', 'rating', 'duration', 'listed_in', 'description'],\n",
       "      dtype='object')"
      ]
     },
     "execution_count": 14,
     "metadata": {},
     "output_type": "execute_result"
    }
   ],
   "source": [
    "df.columns"
   ]
  },
  {
   "cell_type": "code",
   "execution_count": 16,
   "id": "e14545e3-98c7-42c2-ae1f-612712374cf1",
   "metadata": {},
   "outputs": [
    {
     "data": {
      "text/plain": [
       "(8807, 12)"
      ]
     },
     "execution_count": 16,
     "metadata": {},
     "output_type": "execute_result"
    }
   ],
   "source": [
    "df.shape"
   ]
  },
  {
   "cell_type": "code",
   "execution_count": 18,
   "id": "3194bbf7-0575-4a76-861d-1e18d5bb9de0",
   "metadata": {},
   "outputs": [
    {
     "data": {
      "text/plain": [
       "'Movie'"
      ]
     },
     "execution_count": 18,
     "metadata": {},
     "output_type": "execute_result"
    }
   ],
   "source": [
    "# ue iloc to explre the data\n",
    "# iloc[0,1] means row 1, column 2\n",
    "df.iloc[0, 1]"
   ]
  },
  {
   "cell_type": "code",
   "execution_count": 20,
   "id": "8d972799-702c-46b6-bc3e-35110db88611",
   "metadata": {},
   "outputs": [
    {
     "data": {
      "text/plain": [
       "show_id                                                        s1\n",
       "type                                                        Movie\n",
       "title                                        Dick Johnson Is Dead\n",
       "director                                          Kirsten Johnson\n",
       "cast                                                          NaN\n",
       "country                                             United States\n",
       "date_added                                     September 25, 2021\n",
       "release_year                                                 2020\n",
       "rating                                                      PG-13\n",
       "duration                                                   90 min\n",
       "listed_in                                           Documentaries\n",
       "description     As her father nears the end of his life, filmm...\n",
       "Name: 0, dtype: object"
      ]
     },
     "execution_count": 20,
     "metadata": {},
     "output_type": "execute_result"
    }
   ],
   "source": [
    "# row 1 values\n",
    "df.iloc[0, ]"
   ]
  },
  {
   "cell_type": "code",
   "execution_count": 22,
   "id": "fce99a0e-6ae9-4184-842a-ff02f4e0d966",
   "metadata": {},
   "outputs": [
    {
     "data": {
      "text/plain": [
       "<bound method NDFrame.head of 0         Movie\n",
       "1       TV Show\n",
       "2       TV Show\n",
       "3       TV Show\n",
       "4       TV Show\n",
       "         ...   \n",
       "8802      Movie\n",
       "8803    TV Show\n",
       "8804      Movie\n",
       "8805      Movie\n",
       "8806      Movie\n",
       "Name: type, Length: 8807, dtype: object>"
      ]
     },
     "execution_count": 22,
     "metadata": {},
     "output_type": "execute_result"
    }
   ],
   "source": [
    "# all rows, column 2\n",
    "df.iloc[:, 1].head"
   ]
  },
  {
   "cell_type": "code",
   "execution_count": 24,
   "id": "6334e965-aebc-4994-baf6-83f4513da738",
   "metadata": {},
   "outputs": [
    {
     "data": {
      "text/html": [
       "<div>\n",
       "<style scoped>\n",
       "    .dataframe tbody tr th:only-of-type {\n",
       "        vertical-align: middle;\n",
       "    }\n",
       "\n",
       "    .dataframe tbody tr th {\n",
       "        vertical-align: top;\n",
       "    }\n",
       "\n",
       "    .dataframe thead th {\n",
       "        text-align: right;\n",
       "    }\n",
       "</style>\n",
       "<table border=\"1\" class=\"dataframe\">\n",
       "  <thead>\n",
       "    <tr style=\"text-align: right;\">\n",
       "      <th></th>\n",
       "      <th>show_id</th>\n",
       "      <th>type</th>\n",
       "      <th>title</th>\n",
       "      <th>director</th>\n",
       "      <th>cast</th>\n",
       "      <th>country</th>\n",
       "      <th>date_added</th>\n",
       "      <th>release_year</th>\n",
       "      <th>rating</th>\n",
       "      <th>duration</th>\n",
       "      <th>listed_in</th>\n",
       "      <th>description</th>\n",
       "    </tr>\n",
       "  </thead>\n",
       "  <tbody>\n",
       "    <tr>\n",
       "      <th>0</th>\n",
       "      <td>s1</td>\n",
       "      <td>Movie</td>\n",
       "      <td>Dick Johnson Is Dead</td>\n",
       "      <td>Kirsten Johnson</td>\n",
       "      <td>NaN</td>\n",
       "      <td>United States</td>\n",
       "      <td>September 25, 2021</td>\n",
       "      <td>2020</td>\n",
       "      <td>PG-13</td>\n",
       "      <td>90 min</td>\n",
       "      <td>Documentaries</td>\n",
       "      <td>As her father nears the end of his life, filmm...</td>\n",
       "    </tr>\n",
       "    <tr>\n",
       "      <th>1</th>\n",
       "      <td>s2</td>\n",
       "      <td>TV Show</td>\n",
       "      <td>Blood &amp; Water</td>\n",
       "      <td>NaN</td>\n",
       "      <td>Ama Qamata, Khosi Ngema, Gail Mabalane, Thaban...</td>\n",
       "      <td>South Africa</td>\n",
       "      <td>September 24, 2021</td>\n",
       "      <td>2021</td>\n",
       "      <td>TV-MA</td>\n",
       "      <td>2 Seasons</td>\n",
       "      <td>International TV Shows, TV Dramas, TV Mysteries</td>\n",
       "      <td>After crossing paths at a party, a Cape Town t...</td>\n",
       "    </tr>\n",
       "    <tr>\n",
       "      <th>2</th>\n",
       "      <td>s3</td>\n",
       "      <td>TV Show</td>\n",
       "      <td>Ganglands</td>\n",
       "      <td>Julien Leclercq</td>\n",
       "      <td>Sami Bouajila, Tracy Gotoas, Samuel Jouy, Nabi...</td>\n",
       "      <td>NaN</td>\n",
       "      <td>September 24, 2021</td>\n",
       "      <td>2021</td>\n",
       "      <td>TV-MA</td>\n",
       "      <td>1 Season</td>\n",
       "      <td>Crime TV Shows, International TV Shows, TV Act...</td>\n",
       "      <td>To protect his family from a powerful drug lor...</td>\n",
       "    </tr>\n",
       "    <tr>\n",
       "      <th>3</th>\n",
       "      <td>s4</td>\n",
       "      <td>TV Show</td>\n",
       "      <td>Jailbirds New Orleans</td>\n",
       "      <td>NaN</td>\n",
       "      <td>NaN</td>\n",
       "      <td>NaN</td>\n",
       "      <td>September 24, 2021</td>\n",
       "      <td>2021</td>\n",
       "      <td>TV-MA</td>\n",
       "      <td>1 Season</td>\n",
       "      <td>Docuseries, Reality TV</td>\n",
       "      <td>Feuds, flirtations and toilet talk go down amo...</td>\n",
       "    </tr>\n",
       "    <tr>\n",
       "      <th>4</th>\n",
       "      <td>s5</td>\n",
       "      <td>TV Show</td>\n",
       "      <td>Kota Factory</td>\n",
       "      <td>NaN</td>\n",
       "      <td>Mayur More, Jitendra Kumar, Ranjan Raj, Alam K...</td>\n",
       "      <td>India</td>\n",
       "      <td>September 24, 2021</td>\n",
       "      <td>2021</td>\n",
       "      <td>TV-MA</td>\n",
       "      <td>2 Seasons</td>\n",
       "      <td>International TV Shows, Romantic TV Shows, TV ...</td>\n",
       "      <td>In a city of coaching centers known to train I...</td>\n",
       "    </tr>\n",
       "  </tbody>\n",
       "</table>\n",
       "</div>"
      ],
      "text/plain": [
       "  show_id     type                  title         director  \\\n",
       "0      s1    Movie   Dick Johnson Is Dead  Kirsten Johnson   \n",
       "1      s2  TV Show          Blood & Water              NaN   \n",
       "2      s3  TV Show              Ganglands  Julien Leclercq   \n",
       "3      s4  TV Show  Jailbirds New Orleans              NaN   \n",
       "4      s5  TV Show           Kota Factory              NaN   \n",
       "\n",
       "                                                cast        country  \\\n",
       "0                                                NaN  United States   \n",
       "1  Ama Qamata, Khosi Ngema, Gail Mabalane, Thaban...   South Africa   \n",
       "2  Sami Bouajila, Tracy Gotoas, Samuel Jouy, Nabi...            NaN   \n",
       "3                                                NaN            NaN   \n",
       "4  Mayur More, Jitendra Kumar, Ranjan Raj, Alam K...          India   \n",
       "\n",
       "           date_added  release_year rating   duration  \\\n",
       "0  September 25, 2021          2020  PG-13     90 min   \n",
       "1  September 24, 2021          2021  TV-MA  2 Seasons   \n",
       "2  September 24, 2021          2021  TV-MA   1 Season   \n",
       "3  September 24, 2021          2021  TV-MA   1 Season   \n",
       "4  September 24, 2021          2021  TV-MA  2 Seasons   \n",
       "\n",
       "                                           listed_in  \\\n",
       "0                                      Documentaries   \n",
       "1    International TV Shows, TV Dramas, TV Mysteries   \n",
       "2  Crime TV Shows, International TV Shows, TV Act...   \n",
       "3                             Docuseries, Reality TV   \n",
       "4  International TV Shows, Romantic TV Shows, TV ...   \n",
       "\n",
       "                                         description  \n",
       "0  As her father nears the end of his life, filmm...  \n",
       "1  After crossing paths at a party, a Cape Town t...  \n",
       "2  To protect his family from a powerful drug lor...  \n",
       "3  Feuds, flirtations and toilet talk go down amo...  \n",
       "4  In a city of coaching centers known to train I...  "
      ]
     },
     "execution_count": 24,
     "metadata": {},
     "output_type": "execute_result"
    }
   ],
   "source": [
    "df.head()"
   ]
  },
  {
   "cell_type": "code",
   "execution_count": 26,
   "id": "a2bb97fe-6a28-439d-a88d-efdb1979bb2c",
   "metadata": {},
   "outputs": [
    {
     "data": {
      "text/plain": [
       "(1925, 2021)"
      ]
     },
     "execution_count": 26,
     "metadata": {},
     "output_type": "execute_result"
    }
   ],
   "source": [
    "# access the columns using dot\n",
    "# use some functions by dot\n",
    "df.release_year.min() , df.release_year.max()"
   ]
  },
  {
   "cell_type": "code",
   "execution_count": 28,
   "id": "89ec6a15-081b-4d82-b1bf-edf57d75dd70",
   "metadata": {},
   "outputs": [
    {
     "data": {
      "text/html": [
       "<div>\n",
       "<style scoped>\n",
       "    .dataframe tbody tr th:only-of-type {\n",
       "        vertical-align: middle;\n",
       "    }\n",
       "\n",
       "    .dataframe tbody tr th {\n",
       "        vertical-align: top;\n",
       "    }\n",
       "\n",
       "    .dataframe thead th {\n",
       "        text-align: right;\n",
       "    }\n",
       "</style>\n",
       "<table border=\"1\" class=\"dataframe\">\n",
       "  <thead>\n",
       "    <tr style=\"text-align: right;\">\n",
       "      <th></th>\n",
       "      <th>title</th>\n",
       "      <th>director</th>\n",
       "      <th>country</th>\n",
       "    </tr>\n",
       "  </thead>\n",
       "  <tbody>\n",
       "    <tr>\n",
       "      <th>1</th>\n",
       "      <td>Blood &amp; Water</td>\n",
       "      <td>NaN</td>\n",
       "      <td>South Africa</td>\n",
       "    </tr>\n",
       "    <tr>\n",
       "      <th>2</th>\n",
       "      <td>Ganglands</td>\n",
       "      <td>Julien Leclercq</td>\n",
       "      <td>NaN</td>\n",
       "    </tr>\n",
       "    <tr>\n",
       "      <th>3</th>\n",
       "      <td>Jailbirds New Orleans</td>\n",
       "      <td>NaN</td>\n",
       "      <td>NaN</td>\n",
       "    </tr>\n",
       "    <tr>\n",
       "      <th>4</th>\n",
       "      <td>Kota Factory</td>\n",
       "      <td>NaN</td>\n",
       "      <td>India</td>\n",
       "    </tr>\n",
       "    <tr>\n",
       "      <th>5</th>\n",
       "      <td>Midnight Mass</td>\n",
       "      <td>Mike Flanagan</td>\n",
       "      <td>NaN</td>\n",
       "    </tr>\n",
       "  </tbody>\n",
       "</table>\n",
       "</div>"
      ],
      "text/plain": [
       "                   title         director       country\n",
       "1          Blood & Water              NaN  South Africa\n",
       "2              Ganglands  Julien Leclercq           NaN\n",
       "3  Jailbirds New Orleans              NaN           NaN\n",
       "4           Kota Factory              NaN         India\n",
       "5          Midnight Mass    Mike Flanagan           NaN"
      ]
     },
     "execution_count": 28,
     "metadata": {},
     "output_type": "execute_result"
    }
   ],
   "source": [
    "# select columns and filter based on values\n",
    "tv_shows = df[df['type'] == 'TV Show'][['title','director', 'country']]\n",
    "tv_shows.head()"
   ]
  },
  {
   "cell_type": "markdown",
   "id": "1734badc-8d24-4299-ac56-d533edd477e1",
   "metadata": {},
   "source": [
    "## Write your first query: select, from, where\n",
    "use \"select\" for choosing columns \n",
    "\n",
    "\"from\" for choosing a dataset (table) \n",
    "\n",
    "\"where\" for specifying rows.\n"
   ]
  },
  {
   "cell_type": "code",
   "execution_count": 33,
   "id": "33117cec-f5c8-4ce3-a436-10b6cfdcae30",
   "metadata": {},
   "outputs": [
    {
     "name": "stdout",
     "output_type": "stream",
     "text": [
      "    show_id     type                      title         director  \\\n",
      "0        s2  TV Show              Blood & Water             None   \n",
      "1        s3  TV Show                  Ganglands  Julien Leclercq   \n",
      "2        s4  TV Show      Jailbirds New Orleans             None   \n",
      "3        s5  TV Show               Kota Factory             None   \n",
      "4        s6  TV Show              Midnight Mass    Mike Flanagan   \n",
      "..      ...      ...                        ...              ...   \n",
      "587   s1469    Movie  What Happened to Mr. Cha?     Kim Dong-kyu   \n",
      "588   s1552  TV Show                      Hilda             None   \n",
      "589   s1697  TV Show               Polly Pocket             None   \n",
      "590   s2921  TV Show              Love Is Blind             None   \n",
      "591   s8438  TV Show     The Netflix Afterparty             None   \n",
      "\n",
      "                                                  cast  \\\n",
      "0    Ama Qamata, Khosi Ngema, Gail Mabalane, Thaban...   \n",
      "1    Sami Bouajila, Tracy Gotoas, Samuel Jouy, Nabi...   \n",
      "2                                                 None   \n",
      "3    Mayur More, Jitendra Kumar, Ranjan Raj, Alam K...   \n",
      "4    Kate Siegel, Zach Gilford, Hamish Linklater, H...   \n",
      "..                                                 ...   \n",
      "587           Cha In-pyo, Cho Dal-hwan, Song Jae-ryong   \n",
      "588  Bella Ramsey, Ameerah Falzon-Ojo, Oliver Nelso...   \n",
      "589  Emily Tennant, Shannon Chan-Kent, Kazumi Evans...   \n",
      "590                        Nick Lachey, Vanessa Lachey   \n",
      "591       David Spade, London Hughes, Fortune Feimster   \n",
      "\n",
      "                                   country          date_added  release_year  \\\n",
      "0                             South Africa  September 24, 2021          2021   \n",
      "1                                     None  September 24, 2021          2021   \n",
      "2                                     None  September 24, 2021          2021   \n",
      "3                                    India  September 24, 2021          2021   \n",
      "4                                     None  September 24, 2021          2021   \n",
      "..                                     ...                 ...           ...   \n",
      "587                            South Korea     January 1, 2021          2021   \n",
      "588  United Kingdom, Canada, United States   December 14, 2020          2021   \n",
      "589         Canada, United States, Ireland   November 15, 2020          2021   \n",
      "590                          United States   February 13, 2020          2021   \n",
      "591                          United States     January 2, 2021          2021   \n",
      "\n",
      "    rating   duration                                          listed_in  \\\n",
      "0    TV-MA  2 Seasons    International TV Shows, TV Dramas, TV Mysteries   \n",
      "1    TV-MA   1 Season  Crime TV Shows, International TV Shows, TV Act...   \n",
      "2    TV-MA   1 Season                             Docuseries, Reality TV   \n",
      "3    TV-MA  2 Seasons  International TV Shows, Romantic TV Shows, TV ...   \n",
      "4    TV-MA   1 Season                 TV Dramas, TV Horror, TV Mysteries   \n",
      "..     ...        ...                                                ...   \n",
      "587  TV-MA    102 min                     Comedies, International Movies   \n",
      "588  TV-Y7  2 Seasons                                           Kids' TV   \n",
      "589   TV-Y  2 Seasons                                           Kids' TV   \n",
      "590  TV-MA   1 Season                      Reality TV, Romantic TV Shows   \n",
      "591  TV-MA   1 Season          Stand-Up Comedy & Talk Shows, TV Comedies   \n",
      "\n",
      "                                           description  \n",
      "0    After crossing paths at a party, a Cape Town t...  \n",
      "1    To protect his family from a powerful drug lor...  \n",
      "2    Feuds, flirtations and toilet talk go down amo...  \n",
      "3    In a city of coaching centers known to train I...  \n",
      "4    The arrival of a charismatic young priest brin...  \n",
      "..                                                 ...  \n",
      "587  With the peak of his career long behind him, a...  \n",
      "588  Fearless, free-spirited Hilda finds new friend...  \n",
      "589  After uncovering a magical locket that allows ...  \n",
      "590  Nick and Vanessa Lachey host this social exper...  \n",
      "591  Hosts David Spade, Fortune Feimster and London...  \n",
      "\n",
      "[592 rows x 12 columns]\n"
     ]
    }
   ],
   "source": [
    "# select, from, where\n",
    "# use \"\"\" to create a query\n",
    "# * means eveything\n",
    "\n",
    "query_1 = \"\"\"select * \n",
    "from df where \n",
    "release_year > 2020\"\"\"\n",
    "result = sqldf(query_1, globals())  \n",
    "print(result)"
   ]
  },
  {
   "cell_type": "code",
   "execution_count": 36,
   "id": "301a6495-ed57-479f-a80e-b9ba31423b65",
   "metadata": {},
   "outputs": [
    {
     "name": "stdout",
     "output_type": "stream",
     "text": [
      "    show_id     type                      title         director  \\\n",
      "0        s2  TV Show              Blood & Water             None   \n",
      "1        s3  TV Show                  Ganglands  Julien Leclercq   \n",
      "2        s4  TV Show      Jailbirds New Orleans             None   \n",
      "3        s5  TV Show               Kota Factory             None   \n",
      "4        s6  TV Show              Midnight Mass    Mike Flanagan   \n",
      "..      ...      ...                        ...              ...   \n",
      "587   s1469    Movie  What Happened to Mr. Cha?     Kim Dong-kyu   \n",
      "588   s1552  TV Show                      Hilda             None   \n",
      "589   s1697  TV Show               Polly Pocket             None   \n",
      "590   s2921  TV Show              Love Is Blind             None   \n",
      "591   s8438  TV Show     The Netflix Afterparty             None   \n",
      "\n",
      "                                                  cast  \\\n",
      "0    Ama Qamata, Khosi Ngema, Gail Mabalane, Thaban...   \n",
      "1    Sami Bouajila, Tracy Gotoas, Samuel Jouy, Nabi...   \n",
      "2                                                 None   \n",
      "3    Mayur More, Jitendra Kumar, Ranjan Raj, Alam K...   \n",
      "4    Kate Siegel, Zach Gilford, Hamish Linklater, H...   \n",
      "..                                                 ...   \n",
      "587           Cha In-pyo, Cho Dal-hwan, Song Jae-ryong   \n",
      "588  Bella Ramsey, Ameerah Falzon-Ojo, Oliver Nelso...   \n",
      "589  Emily Tennant, Shannon Chan-Kent, Kazumi Evans...   \n",
      "590                        Nick Lachey, Vanessa Lachey   \n",
      "591       David Spade, London Hughes, Fortune Feimster   \n",
      "\n",
      "                                   country          date_added  release_year  \\\n",
      "0                             South Africa  September 24, 2021          2021   \n",
      "1                                     None  September 24, 2021          2021   \n",
      "2                                     None  September 24, 2021          2021   \n",
      "3                                    India  September 24, 2021          2021   \n",
      "4                                     None  September 24, 2021          2021   \n",
      "..                                     ...                 ...           ...   \n",
      "587                            South Korea     January 1, 2021          2021   \n",
      "588  United Kingdom, Canada, United States   December 14, 2020          2021   \n",
      "589         Canada, United States, Ireland   November 15, 2020          2021   \n",
      "590                          United States   February 13, 2020          2021   \n",
      "591                          United States     January 2, 2021          2021   \n",
      "\n",
      "    rating   duration                                          listed_in  \\\n",
      "0    TV-MA  2 Seasons    International TV Shows, TV Dramas, TV Mysteries   \n",
      "1    TV-MA   1 Season  Crime TV Shows, International TV Shows, TV Act...   \n",
      "2    TV-MA   1 Season                             Docuseries, Reality TV   \n",
      "3    TV-MA  2 Seasons  International TV Shows, Romantic TV Shows, TV ...   \n",
      "4    TV-MA   1 Season                 TV Dramas, TV Horror, TV Mysteries   \n",
      "..     ...        ...                                                ...   \n",
      "587  TV-MA    102 min                     Comedies, International Movies   \n",
      "588  TV-Y7  2 Seasons                                           Kids' TV   \n",
      "589   TV-Y  2 Seasons                                           Kids' TV   \n",
      "590  TV-MA   1 Season                      Reality TV, Romantic TV Shows   \n",
      "591  TV-MA   1 Season          Stand-Up Comedy & Talk Shows, TV Comedies   \n",
      "\n",
      "                                           description  \n",
      "0    After crossing paths at a party, a Cape Town t...  \n",
      "1    To protect his family from a powerful drug lor...  \n",
      "2    Feuds, flirtations and toilet talk go down amo...  \n",
      "3    In a city of coaching centers known to train I...  \n",
      "4    The arrival of a charismatic young priest brin...  \n",
      "..                                                 ...  \n",
      "587  With the peak of his career long behind him, a...  \n",
      "588  Fearless, free-spirited Hilda finds new friend...  \n",
      "589  After uncovering a magical locket that allows ...  \n",
      "590  Nick and Vanessa Lachey host this social exper...  \n",
      "591  Hosts David Spade, Fortune Feimster and London...  \n",
      "\n",
      "[592 rows x 12 columns]\n"
     ]
    }
   ],
   "source": [
    "# select, from, where\n",
    "# use \"\"\" to create a query\n",
    "# * means eveything\n",
    "\n",
    "query_1 = \"\"\"select * \n",
    "from df where \n",
    "release_year > 2020\"\"\"\n",
    "\n",
    "result = sqldf(query_1, globals())  \n",
    "print(result)"
   ]
  },
  {
   "cell_type": "code",
   "execution_count": 38,
   "id": "e1876541-de98-4ced-8490-5a53150f9191",
   "metadata": {},
   "outputs": [
    {
     "name": "stdout",
     "output_type": "stream",
     "text": [
      "                                                  cast\n",
      "0    Ama Qamata, Khosi Ngema, Gail Mabalane, Thaban...\n",
      "1    Sami Bouajila, Tracy Gotoas, Samuel Jouy, Nabi...\n",
      "2                                                 None\n",
      "3    Mayur More, Jitendra Kumar, Ranjan Raj, Alam K...\n",
      "4    Kate Siegel, Zach Gilford, Hamish Linklater, H...\n",
      "..                                                 ...\n",
      "587           Cha In-pyo, Cho Dal-hwan, Song Jae-ryong\n",
      "588  Bella Ramsey, Ameerah Falzon-Ojo, Oliver Nelso...\n",
      "589  Emily Tennant, Shannon Chan-Kent, Kazumi Evans...\n",
      "590                        Nick Lachey, Vanessa Lachey\n",
      "591       David Spade, London Hughes, Fortune Feimster\n",
      "\n",
      "[592 rows x 1 columns]\n"
     ]
    }
   ],
   "source": [
    "\n",
    "\n",
    "query_1 = \"\"\"select `cast` \n",
    "from df \n",
    "where release_year > 2020\"\"\"\n",
    "# you must use `` becuase cast itself has a meaning in SQL\n",
    "result = sqldf(query_1, globals()) \n",
    "print(result)"
   ]
  },
  {
   "cell_type": "code",
   "execution_count": 40,
   "id": "553262a9-7720-47f1-b1b3-6d6b836e10e9",
   "metadata": {},
   "outputs": [
    {
     "name": "stdout",
     "output_type": "stream",
     "text": [
      "   id   name  age\n",
      "0   1  Alice   25\n",
      "1   2    Bob   30\n"
     ]
    }
   ],
   "source": [
    "\n",
    "\n",
    "# Sample DataFrame\n",
    "df_1 = pd.DataFrame({\n",
    "    \"id\": [1, 2, 3],\n",
    "    \"name\": [\"Alice\", \"Bob\", \"Charlie\"],\n",
    "    \"age\": [25, 30, 22]\n",
    "})\n",
    "\n",
    "# SQL Query\n",
    "query = \"\"\"select * \n",
    "from df_1 \n",
    "where age > 23\"\"\"\n",
    "result = sqldf(query, globals())  # Use globals() to access df\n",
    "print(result)"
   ]
  },
  {
   "cell_type": "code",
   "execution_count": 42,
   "id": "651a4d75-e50f-4086-9814-1f6be18c69f5",
   "metadata": {},
   "outputs": [
    {
     "name": "stdout",
     "output_type": "stream",
     "text": [
      "   count()\n",
      "0        3\n"
     ]
    }
   ],
   "source": [
    "# count()\n",
    "query_1 = \"\"\"select count() \n",
    "from df \n",
    "where director = 'Julien Leclercq'\"\"\"\n",
    "\n",
    "result = sqldf(query_1, globals())  \n",
    "print(result)"
   ]
  },
  {
   "cell_type": "code",
   "execution_count": 44,
   "id": "b818914f-c9de-46ed-842c-abf808e476cf",
   "metadata": {},
   "outputs": [
    {
     "name": "stdout",
     "output_type": "stream",
     "text": [
      "Index(['show_id', 'type', 'title', 'director', 'cast', 'country', 'date_added',\n",
      "       'release_year', 'rating', 'duration', 'listed_in', 'description'],\n",
      "      dtype='object')\n",
      "   max(release_year)\n",
      "0               2021\n"
     ]
    }
   ],
   "source": [
    "# Other aggregate function: min(), max(), avg(), sum()\n",
    "print(df.columns)\n",
    "# count()\n",
    "query_1 = \"\"\"select max(release_year) \n",
    "from df \n",
    "where director = 'Julien Leclercq'\"\"\"\n",
    "\n",
    "result = sqldf(query_1, globals())  \n",
    "print(result)"
   ]
  },
  {
   "cell_type": "markdown",
   "id": "13d9c59e-cc11-496e-89d2-44699791b4a4",
   "metadata": {},
   "source": [
    "## group by"
   ]
  },
  {
   "cell_type": "code",
   "execution_count": 47,
   "id": "1811609d-b1ad-4678-94a4-e2bc82bec915",
   "metadata": {},
   "outputs": [
    {
     "name": "stdout",
     "output_type": "stream",
     "text": [
      "      type  count(director)\n",
      "0    Movie             5943\n",
      "1  TV Show              230\n"
     ]
    }
   ],
   "source": [
    "# group by\n",
    "query_1 = \"\"\"select type, count(director)\n",
    "from df \n",
    "group by type\"\"\"\n",
    "# counts the number of rows tha director is non-null\n",
    "# note that you need to use ',' after select when selecting several columns or expressions\n",
    "result = sqldf(query_1, globals()) \n",
    "print(result)\n",
    "# there are 5943 directors for Movies and 230 for TV shows. But these are not distinct directors."
   ]
  },
  {
   "cell_type": "code",
   "execution_count": 49,
   "id": "f0882b29-aaf7-4364-8a9c-50c4141e1e4e",
   "metadata": {},
   "outputs": [
    {
     "name": "stdout",
     "output_type": "stream",
     "text": [
      "      type  count(distinct(director))\n",
      "0    Movie                       4354\n",
      "1  TV Show                        222\n"
     ]
    }
   ],
   "source": [
    "# group by\n",
    "query_1 = \"\"\"select type, count(distinct(director))\n",
    "from df \n",
    "group by type\"\"\"\n",
    "# note that you need to use ',' after select when selecting several columns or expressions\n",
    "result = sqldf(query_1, globals()) \n",
    "print(result)\n",
    "# there are 5943 directors for Movies and 230 for TV shows.  these are distinct directors. \n",
    "# but again if there is a , b in a row for a director and a for another row, these two are considered disinct.\n",
    "# if interested you can use a more complex library duckdb to unnest those values that contain \",\"\n",
    "# if interested read several queries below:"
   ]
  },
  {
   "cell_type": "markdown",
   "id": "727cb42c-a759-465b-b47b-a447417216c0",
   "metadata": {},
   "source": [
    "### more cmplex queris using duckdb library"
   ]
  },
  {
   "cell_type": "code",
   "execution_count": 60,
   "id": "30f29c41-ca74-4555-84bb-534bd0672e8a",
   "metadata": {},
   "outputs": [
    {
     "data": {
      "text/html": [
       "<div>\n",
       "<style scoped>\n",
       "    .dataframe tbody tr th:only-of-type {\n",
       "        vertical-align: middle;\n",
       "    }\n",
       "\n",
       "    .dataframe tbody tr th {\n",
       "        vertical-align: top;\n",
       "    }\n",
       "\n",
       "    .dataframe thead th {\n",
       "        text-align: right;\n",
       "    }\n",
       "</style>\n",
       "<table border=\"1\" class=\"dataframe\">\n",
       "  <thead>\n",
       "    <tr style=\"text-align: right;\">\n",
       "      <th></th>\n",
       "      <th>country</th>\n",
       "    </tr>\n",
       "  </thead>\n",
       "  <tbody>\n",
       "    <tr>\n",
       "      <th>0</th>\n",
       "      <td>Romania</td>\n",
       "    </tr>\n",
       "    <tr>\n",
       "      <th>1</th>\n",
       "      <td>Canada</td>\n",
       "    </tr>\n",
       "    <tr>\n",
       "      <th>2</th>\n",
       "      <td>France</td>\n",
       "    </tr>\n",
       "    <tr>\n",
       "      <th>3</th>\n",
       "      <td>Singapore</td>\n",
       "    </tr>\n",
       "    <tr>\n",
       "      <th>4</th>\n",
       "      <td>Bulgaria</td>\n",
       "    </tr>\n",
       "    <tr>\n",
       "      <th>...</th>\n",
       "      <td>...</td>\n",
       "    </tr>\n",
       "    <tr>\n",
       "      <th>118</th>\n",
       "      <td>Samoa</td>\n",
       "    </tr>\n",
       "    <tr>\n",
       "      <th>119</th>\n",
       "      <td>Vatican City</td>\n",
       "    </tr>\n",
       "    <tr>\n",
       "      <th>120</th>\n",
       "      <td>Serbia</td>\n",
       "    </tr>\n",
       "    <tr>\n",
       "      <th>121</th>\n",
       "      <td>Cameroon</td>\n",
       "    </tr>\n",
       "    <tr>\n",
       "      <th>122</th>\n",
       "      <td>Ukraine</td>\n",
       "    </tr>\n",
       "  </tbody>\n",
       "</table>\n",
       "<p>123 rows × 1 columns</p>\n",
       "</div>"
      ],
      "text/plain": [
       "          country\n",
       "0         Romania\n",
       "1          Canada\n",
       "2          France\n",
       "3       Singapore\n",
       "4        Bulgaria\n",
       "..            ...\n",
       "118         Samoa\n",
       "119  Vatican City\n",
       "120        Serbia\n",
       "121      Cameroon\n",
       "122       Ukraine\n",
       "\n",
       "[123 rows x 1 columns]"
      ]
     },
     "execution_count": 60,
     "metadata": {},
     "output_type": "execute_result"
    }
   ],
   "source": [
    "# how many countries are there?\n",
    "# using duckdb we can write a more complex query\n",
    "query = \"\"\"\n",
    "SELECT DISTINCT TRIM(value.unnest) AS country\n",
    "FROM df,\n",
    "LATERAL UNNEST(STRING_SPLIT(country, ',')) AS value\n",
    "WHERE country IS NOT NULL\n",
    "\"\"\"\n",
    "# see how it works?\n",
    "# 'first': in the Lateral line: it unnest string and calls it value\n",
    "# then in select line, access to unnest values using .unnest, then trim and distinct\n",
    "\n",
    "duckdb.query_df(df, 'df', query).df()"
   ]
  },
  {
   "cell_type": "code",
   "execution_count": 62,
   "id": "884fb585-3452-4eb7-b231-30a4e4578498",
   "metadata": {},
   "outputs": [
    {
     "data": {
      "text/html": [
       "<div>\n",
       "<style scoped>\n",
       "    .dataframe tbody tr th:only-of-type {\n",
       "        vertical-align: middle;\n",
       "    }\n",
       "\n",
       "    .dataframe tbody tr th {\n",
       "        vertical-align: top;\n",
       "    }\n",
       "\n",
       "    .dataframe thead th {\n",
       "        text-align: right;\n",
       "    }\n",
       "</style>\n",
       "<table border=\"1\" class=\"dataframe\">\n",
       "  <thead>\n",
       "    <tr style=\"text-align: right;\">\n",
       "      <th></th>\n",
       "      <th>director</th>\n",
       "    </tr>\n",
       "  </thead>\n",
       "  <tbody>\n",
       "    <tr>\n",
       "      <th>0</th>\n",
       "      <td>Hanns-Bruno Kammertöns</td>\n",
       "    </tr>\n",
       "    <tr>\n",
       "      <th>1</th>\n",
       "      <td>Michael Wech</td>\n",
       "    </tr>\n",
       "    <tr>\n",
       "      <th>2</th>\n",
       "      <td>Zoya Akhtar</td>\n",
       "    </tr>\n",
       "    <tr>\n",
       "      <th>3</th>\n",
       "      <td>Takashi Yamazaki</td>\n",
       "    </tr>\n",
       "    <tr>\n",
       "      <th>4</th>\n",
       "      <td>Ajay Bhuyan</td>\n",
       "    </tr>\n",
       "    <tr>\n",
       "      <th>...</th>\n",
       "      <td>...</td>\n",
       "    </tr>\n",
       "    <tr>\n",
       "      <th>4988</th>\n",
       "      <td>Ryan Fleck</td>\n",
       "    </tr>\n",
       "    <tr>\n",
       "      <th>4989</th>\n",
       "      <td>Jean-Loup Felicioli</td>\n",
       "    </tr>\n",
       "    <tr>\n",
       "      <th>4990</th>\n",
       "      <td>Spencer Williams</td>\n",
       "    </tr>\n",
       "    <tr>\n",
       "      <th>4991</th>\n",
       "      <td>Joe Johnston</td>\n",
       "    </tr>\n",
       "    <tr>\n",
       "      <th>4992</th>\n",
       "      <td>Flor Salcedo</td>\n",
       "    </tr>\n",
       "  </tbody>\n",
       "</table>\n",
       "<p>4993 rows × 1 columns</p>\n",
       "</div>"
      ],
      "text/plain": [
       "                    director\n",
       "0     Hanns-Bruno Kammertöns\n",
       "1               Michael Wech\n",
       "2                Zoya Akhtar\n",
       "3           Takashi Yamazaki\n",
       "4                Ajay Bhuyan\n",
       "...                      ...\n",
       "4988              Ryan Fleck\n",
       "4989     Jean-Loup Felicioli\n",
       "4990        Spencer Williams\n",
       "4991            Joe Johnston\n",
       "4992            Flor Salcedo\n",
       "\n",
       "[4993 rows x 1 columns]"
      ]
     },
     "execution_count": 62,
     "metadata": {},
     "output_type": "execute_result"
    }
   ],
   "source": [
    "# how manu directors?\n",
    "query = \"\"\"\n",
    "select DISTINCT TRIM(value.unnest) AS director\n",
    "FROM df,\n",
    "LATERAL UNNEST(STRING_SPLIT(director, ',')) AS value\n",
    "WHERE director IS NOT NULL\n",
    "\"\"\"\n",
    "\n",
    "query_df(df, 'df', query).df()"
   ]
  },
  {
   "cell_type": "code",
   "execution_count": 64,
   "id": "fb8c0004-1042-4242-9fa2-bb0c5efe0e72",
   "metadata": {},
   "outputs": [
    {
     "data": {
      "text/html": [
       "<div>\n",
       "<style scoped>\n",
       "    .dataframe tbody tr th:only-of-type {\n",
       "        vertical-align: middle;\n",
       "    }\n",
       "\n",
       "    .dataframe tbody tr th {\n",
       "        vertical-align: top;\n",
       "    }\n",
       "\n",
       "    .dataframe thead th {\n",
       "        text-align: right;\n",
       "    }\n",
       "</style>\n",
       "<table border=\"1\" class=\"dataframe\">\n",
       "  <thead>\n",
       "    <tr style=\"text-align: right;\">\n",
       "      <th></th>\n",
       "      <th>directors_count</th>\n",
       "    </tr>\n",
       "  </thead>\n",
       "  <tbody>\n",
       "    <tr>\n",
       "      <th>0</th>\n",
       "      <td>4993</td>\n",
       "    </tr>\n",
       "  </tbody>\n",
       "</table>\n",
       "</div>"
      ],
      "text/plain": [
       "   directors_count\n",
       "0             4993"
      ]
     },
     "execution_count": 64,
     "metadata": {},
     "output_type": "execute_result"
    }
   ],
   "source": [
    "# how manu directors?\n",
    "query = \"\"\"\n",
    "select count(DISTINCT TRIM(value.unnest)) AS directors_count\n",
    "FROM df,\n",
    "LATERAL UNNEST(STRING_SPLIT(director, ',')) AS value\n",
    "WHERE director IS NOT NULL\n",
    "\"\"\"\n",
    "\n",
    "query_df(df, 'df', query).df()"
   ]
  },
  {
   "cell_type": "code",
   "execution_count": 66,
   "id": "d1822e0a-fafb-4fb3-9f3a-9ba713627f67",
   "metadata": {},
   "outputs": [
    {
     "name": "stdout",
     "output_type": "stream",
     "text": [
      "      type  distinct_directors\n",
      "0  TV Show                 299\n",
      "1    Movie                4777\n"
     ]
    }
   ],
   "source": [
    "# Now, how many distict directors are there for movies and tv shows separately?\n",
    "query = \"\"\"\n",
    "SELECT \n",
    "    type,\n",
    "    COUNT(DISTINCT TRIM(directors.unnest)) AS distinct_directors\n",
    "FROM df,\n",
    "LATERAL UNNEST(STRING_SPLIT(director, ',')) AS directors\n",
    "GROUP BY type\n",
    "\"\"\"\n",
    "\n",
    "result = query_df(df, 'df', query).df()\n",
    "print(result)"
   ]
  },
  {
   "cell_type": "markdown",
   "id": "f99cd33c-4839-49e3-80fa-d9de21e4ccee",
   "metadata": {},
   "source": [
    "### back to basics"
   ]
  },
  {
   "cell_type": "code",
   "execution_count": 69,
   "id": "acc4802a-67a0-4544-bd57-1169fb70e443",
   "metadata": {},
   "outputs": [
    {
     "name": "stdout",
     "output_type": "stream",
     "text": [
      "      type  count(1)\n",
      "0    Movie      6131\n",
      "1  TV Show      2676\n"
     ]
    }
   ],
   "source": [
    "# group by, if we put 1 in count()\n",
    "query_1 = \"\"\"select type, count(1) \n",
    "from df \n",
    "group by type\"\"\"\n",
    "# note that you need to use ',' after select\n",
    "result = sqldf(query_1, globals())  \n",
    "print(result)"
   ]
  },
  {
   "cell_type": "code",
   "execution_count": 71,
   "id": "e514615e-a0b1-4b3a-b0a2-bcd9188fe7ae",
   "metadata": {},
   "outputs": [
    {
     "name": "stdout",
     "output_type": "stream",
     "text": [
      "   count()\n",
      "0     6131\n",
      "1     2676\n"
     ]
    }
   ],
   "source": [
    "# group by, if we put 1 in count()\n",
    "# is the same as:\n",
    "query_1 = \"select count() from df group by type\"\n",
    "\n",
    "result = sqldf(query_1, globals())  \n",
    "print(result)"
   ]
  },
  {
   "cell_type": "markdown",
   "id": "af046fb6-10d5-4275-9e0c-8a9f64883a02",
   "metadata": {},
   "source": [
    "## group y .... having"
   ]
  },
  {
   "cell_type": "code",
   "execution_count": 74,
   "id": "735bac8c-1f99-4584-b42a-491fd469c28a",
   "metadata": {},
   "outputs": [
    {
     "name": "stdout",
     "output_type": "stream",
     "text": [
      "   rating  count(distinct country)\n",
      "0       G                       12\n",
      "1      NR                       31\n",
      "2      PG                       67\n",
      "3   PG-13                      121\n",
      "4       R                      182\n",
      "5   TV-14                      169\n",
      "6    TV-G                       42\n",
      "7   TV-MA                      314\n",
      "8   TV-PG                      108\n",
      "9    TV-Y                       55\n",
      "10  TV-Y7                       60\n"
     ]
    }
   ],
   "source": [
    "# GROUP BY ... HAVING\n",
    "# HAVING is used in combination with GROUP BY to ignore groups that don't meet certain criteria.\n",
    "query_1 = \"\"\"select rating, count(distinct country)\n",
    "from df \n",
    "group by rating \n",
    "having count(distinct country) > 10\n",
    "\"\"\"\n",
    "\n",
    "result = sqldf(query_1, globals())  \n",
    "print(result)"
   ]
  },
  {
   "cell_type": "code",
   "execution_count": 76,
   "id": "2ef1e6f5-773a-4f43-b050-1e0c73b18045",
   "metadata": {},
   "outputs": [
    {
     "name": "stdout",
     "output_type": "stream",
     "text": [
      "  rating  count(distinct(country))\n",
      "0  TV-14                        30\n",
      "1  TV-MA                        45\n",
      "2  TV-PG                        11\n",
      "3  TV-Y7                        12\n"
     ]
    }
   ],
   "source": [
    "# GROUP BY ... HAVING\n",
    "\n",
    "query_1 = \"\"\"select rating, count(distinct(country))\n",
    "from df \n",
    "where release_year > 2020 \n",
    "group by rating \n",
    "having count(distinct(country)) > 10\n",
    "\"\"\"\n",
    "# note that you need to use ',' after select\n",
    "result = sqldf(query_1, globals())  \n",
    "print(result)"
   ]
  },
  {
   "cell_type": "markdown",
   "id": "98261d75-2c7d-4a0b-9cc9-16c2883606b1",
   "metadata": {},
   "source": [
    "## order by"
   ]
  },
  {
   "cell_type": "code",
   "execution_count": 79,
   "id": "5f4ad023-3e4c-4258-a2dc-407d0b8f9d2d",
   "metadata": {},
   "outputs": [
    {
     "name": "stdout",
     "output_type": "stream",
     "text": [
      "                    director  count()\n",
      "0                       None     2634\n",
      "1              Rajiv Chilaka       19\n",
      "2     Raúl Campos, Jan Suter       18\n",
      "3                Suhas Kadav       16\n",
      "4               Marcus Raboy       16\n",
      "...                      ...      ...\n",
      "4524              Aamir Khan        1\n",
      "4525            Aamir Bashir        1\n",
      "4526         Aadish Keluskar        1\n",
      "4527               A. Salaam        1\n",
      "4528            A. Raajdheep        1\n",
      "\n",
      "[4529 rows x 2 columns]\n"
     ]
    }
   ],
   "source": [
    "#order by\n",
    "# which directors have the most work?\n",
    "query_1 = \"\"\"\n",
    "select director, count() \n",
    "from df \n",
    "group by director \n",
    "order by count() desc\"\"\"\n",
    "\n",
    "result = sqldf(query_1, globals())  \n",
    "print(result)"
   ]
  },
  {
   "cell_type": "markdown",
   "id": "402703d9-e6b4-4d56-834a-edde5741b313",
   "metadata": {},
   "source": [
    "### fancy an accurate measure?\n",
    "\n",
    "use duckdb"
   ]
  },
  {
   "cell_type": "code",
   "execution_count": 82,
   "id": "79909ce8-d3f4-4b1d-a432-f97b99a9e28d",
   "metadata": {},
   "outputs": [
    {
     "name": "stdout",
     "output_type": "stream",
     "text": [
      "     distinct_director  count_star()\n",
      "0        Rajiv Chilaka            22\n",
      "1            Jan Suter            21\n",
      "2          Raúl Campos            19\n",
      "3         Marcus Raboy            16\n",
      "4          Suhas Kadav            16\n",
      "...                ...           ...\n",
      "4988  Benoît Philippon             1\n",
      "4989       Yim Pilsung             1\n",
      "4990      Harry Elfont             1\n",
      "4991        Alex Smith             1\n",
      "4992       Annie Clark             1\n",
      "\n",
      "[4993 rows x 2 columns]\n"
     ]
    }
   ],
   "source": [
    "\n",
    "query = \"\"\"\n",
    "SELECT \n",
    "    DISTINCT TRIM(director.unnest) AS distinct_director,\n",
    "    count()\n",
    "FROM df,\n",
    "LATERAL UNNEST(STRING_SPLIT(director, ',')) AS director\n",
    "GROUP BY distinct_director\n",
    "order by count() desc\n",
    "\"\"\"\n",
    "#using duckdb:\n",
    "result = query_df(df, 'df', query).df()\n",
    "print(result)"
   ]
  },
  {
   "cell_type": "markdown",
   "id": "cf5c195f-e6dc-4dda-9ce7-3a711f3d7333",
   "metadata": {},
   "source": [
    "### back to basics\n",
    "## case when"
   ]
  },
  {
   "cell_type": "code",
   "execution_count": 85,
   "id": "1b850514-f886-4289-86c3-430ba7ff775a",
   "metadata": {},
   "outputs": [
    {
     "name": "stdout",
     "output_type": "stream",
     "text": [
      "                             title  \\\n",
      "0                         Barbecue   \n",
      "1              The Look of Silence   \n",
      "2                  Shaun the Sheep   \n",
      "3     The Professor and the Madman   \n",
      "4                         The Take   \n",
      "...                            ...   \n",
      "8802        Westside vs. the World   \n",
      "8803        World's Weirdest Homes   \n",
      "8804                          Yoko   \n",
      "8805                           YOM   \n",
      "8806                   Zombie Dumb   \n",
      "\n",
      "                                                country  num_countries  \n",
      "0     Australia, Armenia, Japan, Jordan, Mexico, Mon...           12.0  \n",
      "1     Denmark, Indonesia, Finland, Norway, United Ki...           10.0  \n",
      "2     United Kingdom, Finland, Germany, United State...            8.0  \n",
      "3     Ireland, France, Iceland, United States, Mexic...            8.0  \n",
      "4     United Kingdom, France, United States, Belgium...            7.0  \n",
      "...                                                 ...            ...  \n",
      "8802                                               None            NaN  \n",
      "8803                                               None            NaN  \n",
      "8804                                               None            NaN  \n",
      "8805                                               None            NaN  \n",
      "8806                                               None            NaN  \n",
      "\n",
      "[8807 rows x 3 columns]\n"
     ]
    }
   ],
   "source": [
    "# AS , case when\n",
    "#which movies and tv shows have highest number of countries?\n",
    "query_1 = \"\"\"\n",
    "select title, country,\n",
    "CASE WHEN country = 'None' THEN 0 ELSE LENGTH(country) - LENGTH(REPLACE(country, ',', '')) + 1 END AS num_countries \n",
    "from df \n",
    "order by num_countries desc\"\"\"\n",
    "\n",
    "result = sqldf(query_1, globals())  \n",
    "print(result)"
   ]
  },
  {
   "cell_type": "code",
   "execution_count": 87,
   "id": "1628dddd-864e-4436-b3f8-159a86af964d",
   "metadata": {},
   "outputs": [
    {
     "name": "stdout",
     "output_type": "stream",
     "text": [
      "   decade  count()\n",
      "0    2010     5927\n",
      "1    2020     1545\n",
      "2    2000      810\n",
      "3    1990      274\n",
      "4    1980      129\n",
      "5    1970       70\n",
      "6    1960       25\n",
      "7    1940       15\n",
      "8    1950       11\n",
      "9    1920        1\n"
     ]
    }
   ],
   "source": [
    "# AS , count, group by, order by\n",
    "#which decade has the most movies and tv shows?\n",
    "query_1 = \"\"\"\n",
    "select  (release_year / 10) * 10 as decade, count()\n",
    "from df \n",
    "group by decade \n",
    "order by count() desc\"\"\"\n",
    "\n",
    "result = sqldf(query_1, globals())  \n",
    "print(result)"
   ]
  },
  {
   "cell_type": "code",
   "execution_count": 89,
   "id": "7537fa9b-8ada-4033-8816-379b497be822",
   "metadata": {},
   "outputs": [
    {
     "name": "stdout",
     "output_type": "stream",
     "text": [
      "    release_year  title_len_avg\n",
      "0           1925      33.000000\n",
      "1           1942      17.000000\n",
      "2           1943      36.666667\n",
      "3           1944      26.666667\n",
      "4           1945      23.000000\n",
      "..           ...            ...\n",
      "69          2017      17.672481\n",
      "70          2018      18.044464\n",
      "71          2019      18.329126\n",
      "72          2020      19.000000\n",
      "73          2021      18.415541\n",
      "\n",
      "[74 rows x 2 columns]\n"
     ]
    },
    {
     "data": {
      "image/png": "[encoded data removed]",
      "text/plain": [
       "<Figure size 1000x600 with 1 Axes>"
      ]
     },
     "metadata": {},
     "output_type": "display_data"
    }
   ],
   "source": [
    "#plot of length of titles vs time\n",
    "query_1 = \"\"\"\n",
    "select release_year , avg(length(title)) as title_len_avg \n",
    "from df \n",
    "group by release_year  \n",
    "order by release_year  \"\"\"\n",
    "\n",
    "result = sqldf(query_1, globals()) \n",
    "print(result)\n",
    "\n",
    "import matplotlib.pyplot as plt\n",
    "import seaborn as sns\n",
    "plt.figure(figsize=(10, 6))\n",
    "plt.plot(result['release_year'], result['title_len_avg'],marker='o', color='b', linestyle='-', linewidth=2, markersize=5)\n",
    "sns.regplot(x='release_year', y='title_len_avg', data=result, scatter=False, color='r', line_kws={\"linewidth\": 1, \"color\": \"r\"}, order=3)\n",
    "plt.xlabel('Release Year')\n",
    "plt.ylabel('Average Title Length')\n",
    "plt.title('Average Title Length by Release Year')\n",
    "plt.grid(True)\n",
    "\n",
    "#note that order in th regplot (1 to higher), changes the regression line"
   ]
  },
  {
   "cell_type": "markdown",
   "id": "2a0ec129-8f7c-4e51-90dd-0f0d231c2dba",
   "metadata": {},
   "source": [
    "## distinct"
   ]
  },
  {
   "cell_type": "code",
   "execution_count": 91,
   "id": "553526c3-3f45-433f-90da-e708ffad5b03",
   "metadata": {},
   "outputs": [
    {
     "name": "stdout",
     "output_type": "stream",
     "text": [
      "   num_decades\n",
      "0           10\n"
     ]
    }
   ],
   "source": [
    "#distinct\n",
    "#how many decades are there?\n",
    "query_1 = \"\"\"\n",
    "select count(distinct (release_year / 10) * 10) AS num_decades \n",
    "FROM df\n",
    "\"\"\"\n",
    "\n",
    "result = sqldf(query_1, globals())  \n",
    "print(result)"
   ]
  },
  {
   "cell_type": "markdown",
   "id": "a6ed36cd-4f04-4d5b-bab7-fad34ac55aa6",
   "metadata": {},
   "source": [
    "## with ... as\n",
    "A common table expression (or CTE) is a temporary table that you return within your query. CTEs are helpful for splitting your queries into readable chunks, and you can write queries against them.\n"
   ]
  },
  {
   "cell_type": "code",
   "execution_count": 95,
   "id": "c6ba069b-a99b-4479-b0b0-d712f364324f",
   "metadata": {},
   "outputs": [
    {
     "name": "stdout",
     "output_type": "stream",
     "text": [
      "                          title  release_year\n",
      "0          Dick Johnson Is Dead          2020\n",
      "1                  The Starling          2021\n",
      "2                     Grown Ups          2010\n",
      "3                    Dark Skies          2013\n",
      "4                      Paranoia          2013\n",
      "...                         ...           ...\n",
      "2103                  يوم الدين          2018\n",
      "2104    Yo-Kai Watch: The Movie          2016\n",
      "2105                Yoga Hosers          2016\n",
      "2106  You Can’t Fight Christmas          2017\n",
      "2107                Young Adult          2011\n",
      "\n",
      "[2108 rows x 2 columns]\n"
     ]
    }
   ],
   "source": [
    "# with ... as, like\n",
    "\n",
    "query_1 = \"\"\"\n",
    "    with New_US_Movies as\n",
    "    (\n",
    "    select title, release_year \n",
    "    from df \n",
    "    where release_year > 2009 and type = 'Movie'and country like '%United State%' \n",
    "    )\n",
    "    select title, release_year \n",
    "    from New_US_Movies\n",
    "    \"\"\"\n",
    "\n",
    "result = sqldf(query_1, globals()) \n",
    "print(result)"
   ]
  },
  {
   "cell_type": "code",
   "execution_count": 97,
   "id": "831c56db-fcdf-4cd1-b6d5-390c5827d20c",
   "metadata": {},
   "outputs": [],
   "source": [
    "import pandas as pd\n",
    "\n",
    "#df_1 = pd.read_csv(\"rating.csv\", low_memory = False)\n",
    "#df_2 = pd.read_csv(\"anime.csv\")"
   ]
  },
  {
   "cell_type": "code",
   "execution_count": 99,
   "id": "571125bb-7391-46f3-8da0-4625409acc92",
   "metadata": {},
   "outputs": [],
   "source": [
    "# choose 100 random anime_id to reduce the size of the datasets\n",
    "#random_anime_ids = df_1['anime_id'].drop_duplicates().sample(n=100, random_state=42)\n",
    "#print(random_anime_ids)"
   ]
  },
  {
   "cell_type": "code",
   "execution_count": 101,
   "id": "261aa7af-7fb6-43ff-9cb9-786031fbb910",
   "metadata": {},
   "outputs": [],
   "source": [
    "#reduce the size of the datasets\n",
    "#df_3 = df_1[df_1['anime_id'].isin(random_anime_ids)]\n",
    "#df_4 = df_2[df_2['anime_id'].isin(random_anime_ids)]"
   ]
  },
  {
   "cell_type": "code",
   "execution_count": 103,
   "id": "23c8f81c-1493-4194-a2a6-d55d8aa08131",
   "metadata": {},
   "outputs": [],
   "source": [
    "#df_3.to_csv(\"rating_reduced_size.csv\", index=False)  \n",
    "#df_4.to_csv(\"anime_reduced_size.csv\", index=False) "
   ]
  },
  {
   "cell_type": "code",
   "execution_count": 105,
   "id": "aa9b27db-b0a4-4587-b887-1d83a3143002",
   "metadata": {},
   "outputs": [],
   "source": [
    "df_3 = pd.read_csv(\"rating_reduced_size.csv\", low_memory = False)\n",
    "df_4 = pd.read_csv(\"anime_reduced_size.csv\")"
   ]
  },
  {
   "cell_type": "code",
   "execution_count": 107,
   "id": "2274e758-fccd-4316-a932-fa5bb23a2fcf",
   "metadata": {},
   "outputs": [
    {
     "data": {
      "text/plain": [
       "(Index(['user_id', 'anime_id', 'rating'], dtype='object'),\n",
       " Index(['anime_id', 'name', 'genre', 'type', 'episodes', 'rating', 'members'], dtype='object'))"
      ]
     },
     "execution_count": 107,
     "metadata": {},
     "output_type": "execute_result"
    }
   ],
   "source": [
    "df_3.columns  , df_4.columns"
   ]
  },
  {
   "cell_type": "code",
   "execution_count": 109,
   "id": "9807260f-5ce2-472f-a553-9a7e4d164799",
   "metadata": {},
   "outputs": [
    {
     "data": {
      "text/html": [
       "<div>\n",
       "<style scoped>\n",
       "    .dataframe tbody tr th:only-of-type {\n",
       "        vertical-align: middle;\n",
       "    }\n",
       "\n",
       "    .dataframe tbody tr th {\n",
       "        vertical-align: top;\n",
       "    }\n",
       "\n",
       "    .dataframe thead th {\n",
       "        text-align: right;\n",
       "    }\n",
       "</style>\n",
       "<table border=\"1\" class=\"dataframe\">\n",
       "  <thead>\n",
       "    <tr style=\"text-align: right;\">\n",
       "      <th></th>\n",
       "      <th>user_id</th>\n",
       "      <th>anime_id</th>\n",
       "      <th>rating</th>\n",
       "    </tr>\n",
       "  </thead>\n",
       "  <tbody>\n",
       "    <tr>\n",
       "      <th>0</th>\n",
       "      <td>1</td>\n",
       "      <td>15451</td>\n",
       "      <td>10</td>\n",
       "    </tr>\n",
       "    <tr>\n",
       "      <th>1</th>\n",
       "      <td>1</td>\n",
       "      <td>20785</td>\n",
       "      <td>-1</td>\n",
       "    </tr>\n",
       "    <tr>\n",
       "      <th>2</th>\n",
       "      <td>4</td>\n",
       "      <td>17777</td>\n",
       "      <td>-1</td>\n",
       "    </tr>\n",
       "    <tr>\n",
       "      <th>3</th>\n",
       "      <td>5</td>\n",
       "      <td>1887</td>\n",
       "      <td>3</td>\n",
       "    </tr>\n",
       "    <tr>\n",
       "      <th>4</th>\n",
       "      <td>5</td>\n",
       "      <td>9220</td>\n",
       "      <td>5</td>\n",
       "    </tr>\n",
       "  </tbody>\n",
       "</table>\n",
       "</div>"
      ],
      "text/plain": [
       "   user_id  anime_id  rating\n",
       "0        1     15451      10\n",
       "1        1     20785      -1\n",
       "2        4     17777      -1\n",
       "3        5      1887       3\n",
       "4        5      9220       5"
      ]
     },
     "execution_count": 109,
     "metadata": {},
     "output_type": "execute_result"
    }
   ],
   "source": [
    "df_3.head()"
   ]
  },
  {
   "cell_type": "code",
   "execution_count": 111,
   "id": "05d328a0-ad8a-4632-99aa-a35fdc3d5dcd",
   "metadata": {},
   "outputs": [
    {
     "data": {
      "text/html": [
       "<div>\n",
       "<style scoped>\n",
       "    .dataframe tbody tr th:only-of-type {\n",
       "        vertical-align: middle;\n",
       "    }\n",
       "\n",
       "    .dataframe tbody tr th {\n",
       "        vertical-align: top;\n",
       "    }\n",
       "\n",
       "    .dataframe thead th {\n",
       "        text-align: right;\n",
       "    }\n",
       "</style>\n",
       "<table border=\"1\" class=\"dataframe\">\n",
       "  <thead>\n",
       "    <tr style=\"text-align: right;\">\n",
       "      <th></th>\n",
       "      <th>anime_id</th>\n",
       "      <th>name</th>\n",
       "      <th>genre</th>\n",
       "      <th>type</th>\n",
       "      <th>episodes</th>\n",
       "      <th>rating</th>\n",
       "      <th>members</th>\n",
       "    </tr>\n",
       "  </thead>\n",
       "  <tbody>\n",
       "    <tr>\n",
       "      <th>0</th>\n",
       "      <td>28851</td>\n",
       "      <td>Koe no Katachi</td>\n",
       "      <td>Drama, School, Shounen</td>\n",
       "      <td>Movie</td>\n",
       "      <td>1</td>\n",
       "      <td>9.05</td>\n",
       "      <td>102733</td>\n",
       "    </tr>\n",
       "    <tr>\n",
       "      <th>1</th>\n",
       "      <td>4107</td>\n",
       "      <td>Tengen Toppa Gurren Lagann Movie: Gurren-hen</td>\n",
       "      <td>Action, Comedy, Mecha</td>\n",
       "      <td>Movie</td>\n",
       "      <td>1</td>\n",
       "      <td>8.22</td>\n",
       "      <td>72933</td>\n",
       "    </tr>\n",
       "    <tr>\n",
       "      <th>2</th>\n",
       "      <td>4053</td>\n",
       "      <td>Prince of Tennis: The National Tournament Finals</td>\n",
       "      <td>Comedy, School, Shounen, Sports</td>\n",
       "      <td>OVA</td>\n",
       "      <td>7</td>\n",
       "      <td>8.15</td>\n",
       "      <td>21020</td>\n",
       "    </tr>\n",
       "    <tr>\n",
       "      <th>3</th>\n",
       "      <td>15451</td>\n",
       "      <td>High School DxD New</td>\n",
       "      <td>Action, Comedy, Demons, Ecchi, Harem, Romance,...</td>\n",
       "      <td>TV</td>\n",
       "      <td>12</td>\n",
       "      <td>7.87</td>\n",
       "      <td>266657</td>\n",
       "    </tr>\n",
       "    <tr>\n",
       "      <th>4</th>\n",
       "      <td>1887</td>\n",
       "      <td>Lucky☆Star</td>\n",
       "      <td>Comedy, Parody, School, Slice of Life</td>\n",
       "      <td>TV</td>\n",
       "      <td>24</td>\n",
       "      <td>7.87</td>\n",
       "      <td>305837</td>\n",
       "    </tr>\n",
       "  </tbody>\n",
       "</table>\n",
       "</div>"
      ],
      "text/plain": [
       "   anime_id                                              name  \\\n",
       "0     28851                                    Koe no Katachi   \n",
       "1      4107      Tengen Toppa Gurren Lagann Movie: Gurren-hen   \n",
       "2      4053  Prince of Tennis: The National Tournament Finals   \n",
       "3     15451                               High School DxD New   \n",
       "4      1887                                        Lucky☆Star   \n",
       "\n",
       "                                               genre   type  episodes  rating  \\\n",
       "0                             Drama, School, Shounen  Movie         1    9.05   \n",
       "1                              Action, Comedy, Mecha  Movie         1    8.22   \n",
       "2                    Comedy, School, Shounen, Sports    OVA         7    8.15   \n",
       "3  Action, Comedy, Demons, Ecchi, Harem, Romance,...     TV        12    7.87   \n",
       "4              Comedy, Parody, School, Slice of Life     TV        24    7.87   \n",
       "\n",
       "   members  \n",
       "0   102733  \n",
       "1    72933  \n",
       "2    21020  \n",
       "3   266657  \n",
       "4   305837  "
      ]
     },
     "execution_count": 111,
     "metadata": {},
     "output_type": "execute_result"
    }
   ],
   "source": [
    "df_4.head()"
   ]
  },
  {
   "cell_type": "code",
   "execution_count": 113,
   "id": "81e4a3bb-2e32-4cd3-8f8b-c2bca5201ee0",
   "metadata": {},
   "outputs": [
    {
     "data": {
      "text/plain": [
       "((68423, 3), (100, 7))"
      ]
     },
     "execution_count": 113,
     "metadata": {},
     "output_type": "execute_result"
    }
   ],
   "source": [
    "df_3.shape , df_4.shape"
   ]
  },
  {
   "cell_type": "markdown",
   "id": "2ff23aa0-2b24-4563-9cfc-41c5a92294c5",
   "metadata": {},
   "source": [
    "## join\n",
    "\n",
    "join ... on ...."
   ]
  },
  {
   "cell_type": "code",
   "execution_count": 116,
   "id": "ef2bc087-bf39-4c7d-9bbc-b5e956016208",
   "metadata": {},
   "outputs": [
    {
     "name": "stdout",
     "output_type": "stream",
     "text": [
      "                                                 name  avg_rating  rating\n",
      "0                                   Scrapped Princess    5.984932    7.52\n",
      "1                    Green Green Thirteen: Erolutions    4.717622    6.26\n",
      "2                            Astro Boy: Tetsuwan Atom    5.119883    7.02\n",
      "3                 Chicchana Yukitsukai Sugar Specials    4.840237    7.09\n",
      "4                        Chou Denji Robo Combattler V    3.937500    6.93\n",
      "..                                                ...         ...     ...\n",
      "95                                  Sakamoto desu ga?    6.177234    7.67\n",
      "96  Minions x Godzilla x Toho Cinema Collaboration...    4.250000    5.75\n",
      "97                Persona 3 the Movie Meets “Walkman”    2.687500    5.91\n",
      "98               Hikari: Kariya wo Tsunagu Monogatari    2.500000    5.52\n",
      "99                                 Ragnastrike Angels    3.280374    4.42\n",
      "\n",
      "[100 rows x 3 columns]\n"
     ]
    }
   ],
   "source": [
    "# join \n",
    "#join comes before group\n",
    "\n",
    "query_1 = \"\"\"\n",
    "select df_4.name, avg(df_3.rating) as avg_rating , df_4.rating\n",
    "from df_3\n",
    "inner join df_4 on df_3.anime_id = df_4.anime_id\n",
    "group by df_3.anime_id\n",
    "\"\"\"\n",
    "\n",
    "result = sqldf(query_1, globals())  \n",
    "print(result)\n",
    "# the rating from df_4 is so different from avg rating of users from df_3. in the nedxt code let's reducr the difference."
   ]
  },
  {
   "cell_type": "code",
   "execution_count": 118,
   "id": "e11bb972-4a73-45d5-871a-e42a26b0b4ac",
   "metadata": {},
   "outputs": [
    {
     "name": "stdout",
     "output_type": "stream",
     "text": [
      "                                                 name  avg_rating  rating\n",
      "0                                   Scrapped Princess    6.178539    7.52\n",
      "1                    Green Green Thirteen: Erolutions    4.953999    6.26\n",
      "2                            Astro Boy: Tetsuwan Atom    5.374269    7.02\n",
      "3                 Chicchana Yukitsukai Sugar Specials    5.136095    7.09\n",
      "4                        Chou Denji Robo Combattler V    4.312500    6.93\n",
      "..                                                ...         ...     ...\n",
      "95                                  Sakamoto desu ga?    6.357434    7.67\n",
      "96  Minions x Godzilla x Toho Cinema Collaboration...    4.250000    5.75\n",
      "97                Persona 3 the Movie Meets “Walkman”    3.062500    5.91\n",
      "98               Hikari: Kariya wo Tsunagu Monogatari    3.000000    5.52\n",
      "99                                 Ragnastrike Angels    3.532710    4.42\n",
      "\n",
      "[100 rows x 3 columns]\n"
     ]
    }
   ],
   "source": [
    "# join ... on ... + case when\n",
    "query_1 = \"\"\"\n",
    "    select df_4.name, avg(case when df_3.rating > -1 then df_3.rating else 0 end) as avg_rating , df_4.rating\n",
    "    from df_3\n",
    "    inner join df_4 on df_3.anime_id = df_4.anime_id\n",
    "    group by df_3.anime_id\n",
    "    \"\"\"\n",
    "\n",
    "result = sqldf(query_1, globals())  \n",
    "print(result)\n",
    "# results are better, but we can make them een better with where "
   ]
  },
  {
   "cell_type": "code",
   "execution_count": 120,
   "id": "c10b06e8-2c29-47de-b4df-43b60abff932",
   "metadata": {},
   "outputs": [
    {
     "name": "stdout",
     "output_type": "stream",
     "text": [
      "                                                 name  avg_rating  rating\n",
      "0                                   Scrapped Princess    7.661948    7.52\n",
      "1                    Green Green Thirteen: Erolutions    6.487488    6.26\n",
      "2                            Astro Boy: Tetsuwan Atom    7.207843    7.02\n",
      "3                 Chicchana Yukitsukai Sugar Specials    7.294118    7.09\n",
      "4                        Chou Denji Robo Combattler V    6.900000    6.93\n",
      "..                                                ...         ...     ...\n",
      "86                                  Sakamoto desu ga?    7.754862    7.67\n",
      "87  Minions x Godzilla x Toho Cinema Collaboration...    4.250000    5.75\n",
      "88                Persona 3 the Movie Meets “Walkman”    4.900000    5.91\n",
      "89               Hikari: Kariya wo Tsunagu Monogatari    6.000000    5.52\n",
      "90                                 Ragnastrike Angels    4.725000    4.42\n",
      "\n",
      "[91 rows x 3 columns]\n"
     ]
    }
   ],
   "source": [
    "# join \n",
    "query_1 = \"\"\"\n",
    "select \n",
    "    df_4.name, \n",
    "    avg(df_3.rating ) as avg_rating , \n",
    "    df_4.rating\n",
    "from df_3\n",
    "inner join df_4 on df_3.anime_id = df_4.anime_id\n",
    "where df_3.rating > -1\n",
    "group by df_3.anime_id\n",
    "    \"\"\"\n",
    "\n",
    "result = sqldf(query_1, globals())  \n",
    "print(result)\n",
    "\n"
   ]
  },
  {
   "cell_type": "markdown",
   "id": "bbf57fe8-92f7-484a-b086-47dbdbb0de63",
   "metadata": {},
   "source": [
    "#### why where is not after from?\n",
    "Here's the typical order you write SQL:\n",
    "\n",
    "\n",
    "SELECT ...\n",
    "\n",
    "FROM ...\n",
    "\n",
    "[JOIN ... ON ...]\n",
    "\n",
    "WHERE ...\n",
    "\n",
    "GROUP BY ...\n",
    "\n",
    "HAVING ...\n",
    "\n",
    "ORDER BY ..."
   ]
  },
  {
   "cell_type": "markdown",
   "id": "bbaf443d-c699-45e8-9874-0cadd6918fdc",
   "metadata": {},
   "source": [
    "## Join"
   ]
  },
  {
   "cell_type": "code",
   "execution_count": 124,
   "id": "82200cd9-b90c-4e5f-a418-4b529db024ff",
   "metadata": {},
   "outputs": [],
   "source": [
    "# Walmart Sales Forecast dtaset from kaggle\n",
    "# https://www.kaggle.com/datasets/aslanahmedov/walmart-sales-forecast\n",
    "df_stores = pd.read_csv(\"stores.csv\")\n",
    "df_features = pd.read_csv(\"features.csv\")\n",
    "df_train = pd.read_csv('train.csv')"
   ]
  },
  {
   "cell_type": "code",
   "execution_count": 126,
   "id": "ccd42c70-5cef-4270-b40d-7b7bd30448e3",
   "metadata": {},
   "outputs": [
    {
     "data": {
      "text/html": [
       "<div>\n",
       "<style scoped>\n",
       "    .dataframe tbody tr th:only-of-type {\n",
       "        vertical-align: middle;\n",
       "    }\n",
       "\n",
       "    .dataframe tbody tr th {\n",
       "        vertical-align: top;\n",
       "    }\n",
       "\n",
       "    .dataframe thead th {\n",
       "        text-align: right;\n",
       "    }\n",
       "</style>\n",
       "<table border=\"1\" class=\"dataframe\">\n",
       "  <thead>\n",
       "    <tr style=\"text-align: right;\">\n",
       "      <th></th>\n",
       "      <th>Store</th>\n",
       "      <th>Type</th>\n",
       "      <th>Size</th>\n",
       "    </tr>\n",
       "  </thead>\n",
       "  <tbody>\n",
       "    <tr>\n",
       "      <th>0</th>\n",
       "      <td>1</td>\n",
       "      <td>A</td>\n",
       "      <td>151315</td>\n",
       "    </tr>\n",
       "    <tr>\n",
       "      <th>1</th>\n",
       "      <td>2</td>\n",
       "      <td>A</td>\n",
       "      <td>202307</td>\n",
       "    </tr>\n",
       "    <tr>\n",
       "      <th>2</th>\n",
       "      <td>3</td>\n",
       "      <td>B</td>\n",
       "      <td>37392</td>\n",
       "    </tr>\n",
       "    <tr>\n",
       "      <th>3</th>\n",
       "      <td>4</td>\n",
       "      <td>A</td>\n",
       "      <td>205863</td>\n",
       "    </tr>\n",
       "    <tr>\n",
       "      <th>4</th>\n",
       "      <td>5</td>\n",
       "      <td>B</td>\n",
       "      <td>34875</td>\n",
       "    </tr>\n",
       "  </tbody>\n",
       "</table>\n",
       "</div>"
      ],
      "text/plain": [
       "   Store Type    Size\n",
       "0      1    A  151315\n",
       "1      2    A  202307\n",
       "2      3    B   37392\n",
       "3      4    A  205863\n",
       "4      5    B   34875"
      ]
     },
     "execution_count": 126,
     "metadata": {},
     "output_type": "execute_result"
    }
   ],
   "source": [
    "df_stores.head()  "
   ]
  },
  {
   "cell_type": "code",
   "execution_count": 128,
   "id": "c277da36-506f-4b46-893f-383c8ed67e37",
   "metadata": {},
   "outputs": [
    {
     "data": {
      "text/plain": [
       "(45, 3)"
      ]
     },
     "execution_count": 128,
     "metadata": {},
     "output_type": "execute_result"
    }
   ],
   "source": [
    "df_stores.shape"
   ]
  },
  {
   "cell_type": "code",
   "execution_count": 130,
   "id": "bb7e341e-4655-4f03-8f00-17c8f5b95055",
   "metadata": {},
   "outputs": [
    {
     "data": {
      "text/html": [
       "<div>\n",
       "<style scoped>\n",
       "    .dataframe tbody tr th:only-of-type {\n",
       "        vertical-align: middle;\n",
       "    }\n",
       "\n",
       "    .dataframe tbody tr th {\n",
       "        vertical-align: top;\n",
       "    }\n",
       "\n",
       "    .dataframe thead th {\n",
       "        text-align: right;\n",
       "    }\n",
       "</style>\n",
       "<table border=\"1\" class=\"dataframe\">\n",
       "  <thead>\n",
       "    <tr style=\"text-align: right;\">\n",
       "      <th></th>\n",
       "      <th>Store</th>\n",
       "      <th>Date</th>\n",
       "      <th>Temperature</th>\n",
       "      <th>Fuel_Price</th>\n",
       "      <th>MarkDown1</th>\n",
       "      <th>MarkDown2</th>\n",
       "      <th>MarkDown3</th>\n",
       "      <th>MarkDown4</th>\n",
       "      <th>MarkDown5</th>\n",
       "      <th>CPI</th>\n",
       "      <th>Unemployment</th>\n",
       "      <th>IsHoliday</th>\n",
       "    </tr>\n",
       "  </thead>\n",
       "  <tbody>\n",
       "    <tr>\n",
       "      <th>0</th>\n",
       "      <td>1</td>\n",
       "      <td>2010-02-05</td>\n",
       "      <td>42.31</td>\n",
       "      <td>2.572</td>\n",
       "      <td>NaN</td>\n",
       "      <td>NaN</td>\n",
       "      <td>NaN</td>\n",
       "      <td>NaN</td>\n",
       "      <td>NaN</td>\n",
       "      <td>211.096358</td>\n",
       "      <td>8.106</td>\n",
       "      <td>False</td>\n",
       "    </tr>\n",
       "    <tr>\n",
       "      <th>1</th>\n",
       "      <td>1</td>\n",
       "      <td>2010-02-12</td>\n",
       "      <td>38.51</td>\n",
       "      <td>2.548</td>\n",
       "      <td>NaN</td>\n",
       "      <td>NaN</td>\n",
       "      <td>NaN</td>\n",
       "      <td>NaN</td>\n",
       "      <td>NaN</td>\n",
       "      <td>211.242170</td>\n",
       "      <td>8.106</td>\n",
       "      <td>True</td>\n",
       "    </tr>\n",
       "    <tr>\n",
       "      <th>2</th>\n",
       "      <td>1</td>\n",
       "      <td>2010-02-19</td>\n",
       "      <td>39.93</td>\n",
       "      <td>2.514</td>\n",
       "      <td>NaN</td>\n",
       "      <td>NaN</td>\n",
       "      <td>NaN</td>\n",
       "      <td>NaN</td>\n",
       "      <td>NaN</td>\n",
       "      <td>211.289143</td>\n",
       "      <td>8.106</td>\n",
       "      <td>False</td>\n",
       "    </tr>\n",
       "    <tr>\n",
       "      <th>3</th>\n",
       "      <td>1</td>\n",
       "      <td>2010-02-26</td>\n",
       "      <td>46.63</td>\n",
       "      <td>2.561</td>\n",
       "      <td>NaN</td>\n",
       "      <td>NaN</td>\n",
       "      <td>NaN</td>\n",
       "      <td>NaN</td>\n",
       "      <td>NaN</td>\n",
       "      <td>211.319643</td>\n",
       "      <td>8.106</td>\n",
       "      <td>False</td>\n",
       "    </tr>\n",
       "    <tr>\n",
       "      <th>4</th>\n",
       "      <td>1</td>\n",
       "      <td>2010-03-05</td>\n",
       "      <td>46.50</td>\n",
       "      <td>2.625</td>\n",
       "      <td>NaN</td>\n",
       "      <td>NaN</td>\n",
       "      <td>NaN</td>\n",
       "      <td>NaN</td>\n",
       "      <td>NaN</td>\n",
       "      <td>211.350143</td>\n",
       "      <td>8.106</td>\n",
       "      <td>False</td>\n",
       "    </tr>\n",
       "  </tbody>\n",
       "</table>\n",
       "</div>"
      ],
      "text/plain": [
       "   Store        Date  Temperature  Fuel_Price  MarkDown1  MarkDown2  \\\n",
       "0      1  2010-02-05        42.31       2.572        NaN        NaN   \n",
       "1      1  2010-02-12        38.51       2.548        NaN        NaN   \n",
       "2      1  2010-02-19        39.93       2.514        NaN        NaN   \n",
       "3      1  2010-02-26        46.63       2.561        NaN        NaN   \n",
       "4      1  2010-03-05        46.50       2.625        NaN        NaN   \n",
       "\n",
       "   MarkDown3  MarkDown4  MarkDown5         CPI  Unemployment  IsHoliday  \n",
       "0        NaN        NaN        NaN  211.096358         8.106      False  \n",
       "1        NaN        NaN        NaN  211.242170         8.106       True  \n",
       "2        NaN        NaN        NaN  211.289143         8.106      False  \n",
       "3        NaN        NaN        NaN  211.319643         8.106      False  \n",
       "4        NaN        NaN        NaN  211.350143         8.106      False  "
      ]
     },
     "execution_count": 130,
     "metadata": {},
     "output_type": "execute_result"
    }
   ],
   "source": [
    "df_features.head()"
   ]
  },
  {
   "cell_type": "code",
   "execution_count": 132,
   "id": "81357967-d5fa-4686-9bc3-3af25dbaed5b",
   "metadata": {},
   "outputs": [
    {
     "data": {
      "text/html": [
       "<div>\n",
       "<style scoped>\n",
       "    .dataframe tbody tr th:only-of-type {\n",
       "        vertical-align: middle;\n",
       "    }\n",
       "\n",
       "    .dataframe tbody tr th {\n",
       "        vertical-align: top;\n",
       "    }\n",
       "\n",
       "    .dataframe thead th {\n",
       "        text-align: right;\n",
       "    }\n",
       "</style>\n",
       "<table border=\"1\" class=\"dataframe\">\n",
       "  <thead>\n",
       "    <tr style=\"text-align: right;\">\n",
       "      <th></th>\n",
       "      <th>Store</th>\n",
       "      <th>Dept</th>\n",
       "      <th>Date</th>\n",
       "      <th>Weekly_Sales</th>\n",
       "      <th>IsHoliday</th>\n",
       "    </tr>\n",
       "  </thead>\n",
       "  <tbody>\n",
       "    <tr>\n",
       "      <th>0</th>\n",
       "      <td>1</td>\n",
       "      <td>1</td>\n",
       "      <td>2010-02-05</td>\n",
       "      <td>24924.50</td>\n",
       "      <td>False</td>\n",
       "    </tr>\n",
       "    <tr>\n",
       "      <th>1</th>\n",
       "      <td>1</td>\n",
       "      <td>1</td>\n",
       "      <td>2010-02-12</td>\n",
       "      <td>46039.49</td>\n",
       "      <td>True</td>\n",
       "    </tr>\n",
       "    <tr>\n",
       "      <th>2</th>\n",
       "      <td>1</td>\n",
       "      <td>1</td>\n",
       "      <td>2010-02-19</td>\n",
       "      <td>41595.55</td>\n",
       "      <td>False</td>\n",
       "    </tr>\n",
       "    <tr>\n",
       "      <th>3</th>\n",
       "      <td>1</td>\n",
       "      <td>1</td>\n",
       "      <td>2010-02-26</td>\n",
       "      <td>19403.54</td>\n",
       "      <td>False</td>\n",
       "    </tr>\n",
       "    <tr>\n",
       "      <th>4</th>\n",
       "      <td>1</td>\n",
       "      <td>1</td>\n",
       "      <td>2010-03-05</td>\n",
       "      <td>21827.90</td>\n",
       "      <td>False</td>\n",
       "    </tr>\n",
       "  </tbody>\n",
       "</table>\n",
       "</div>"
      ],
      "text/plain": [
       "   Store  Dept        Date  Weekly_Sales  IsHoliday\n",
       "0      1     1  2010-02-05      24924.50      False\n",
       "1      1     1  2010-02-12      46039.49       True\n",
       "2      1     1  2010-02-19      41595.55      False\n",
       "3      1     1  2010-02-26      19403.54      False\n",
       "4      1     1  2010-03-05      21827.90      False"
      ]
     },
     "execution_count": 132,
     "metadata": {},
     "output_type": "execute_result"
    }
   ],
   "source": [
    "df_train.head()"
   ]
  },
  {
   "cell_type": "code",
   "execution_count": 134,
   "id": "f0f6dca4-2de8-42eb-a03e-601d41b8e2ee",
   "metadata": {},
   "outputs": [
    {
     "data": {
      "text/plain": [
       "((45, 3), (8190, 12), (421570, 5))"
      ]
     },
     "execution_count": 134,
     "metadata": {},
     "output_type": "execute_result"
    }
   ],
   "source": [
    "df_stores.shape , df_features.shape , df_train.shape"
   ]
  },
  {
   "cell_type": "code",
   "execution_count": 136,
   "id": "13bb57e3-03ef-4928-884d-db319039a19a",
   "metadata": {},
   "outputs": [
    {
     "name": "stdout",
     "output_type": "stream",
     "text": [
      "  Type  count()\n",
      "0    A       22\n",
      "1    B       17\n",
      "2    C        6\n"
     ]
    }
   ],
   "source": [
    "#how many stores of each type?\n",
    "query_1 = \"\"\"\n",
    "select \n",
    "    type, \n",
    "    count()\n",
    "from df_stores\n",
    "group by type\n",
    "    \"\"\"\n",
    "\n",
    "result = sqldf(query_1, globals()) \n",
    "print(result)"
   ]
  },
  {
   "cell_type": "code",
   "execution_count": 138,
   "id": "bb7a2f7b-5b87-4d64-b662-7c8a9edb2bc6",
   "metadata": {},
   "outputs": [
    {
     "name": "stdout",
     "output_type": "stream",
     "text": [
      "    Store  dept_count\n",
      "0      43          61\n",
      "1      37          62\n",
      "2      42          62\n",
      "3      44          62\n",
      "4      33          63\n",
      "5      36          63\n",
      "6      38          63\n",
      "7      30          64\n",
      "8       3          72\n",
      "9       5          72\n",
      "10      9          73\n",
      "11     35          74\n",
      "12     45          74\n",
      "13     12          75\n",
      "14     39          75\n",
      "15      7          76\n",
      "16      8          76\n",
      "17     16          76\n",
      "18     17          76\n",
      "19     22          76\n",
      "20     26          76\n",
      "21     31          76\n",
      "22      1          77\n",
      "23      6          77\n",
      "24     10          77\n",
      "25     14          77\n",
      "26     21          77\n",
      "27     23          77\n",
      "28     24          77\n",
      "29     25          77\n",
      "30     28          77\n",
      "31     29          77\n",
      "32     32          77\n",
      "33     40          77\n",
      "34     41          77\n",
      "35      2          78\n",
      "36      4          78\n",
      "37     11          78\n",
      "38     18          78\n",
      "39     20          78\n",
      "40     27          78\n",
      "41     34          78\n",
      "42     13          79\n",
      "43     15          79\n",
      "44     19          79\n"
     ]
    }
   ],
   "source": [
    "#which store has the least departments?\n",
    "query_1 = \"\"\"\n",
    "select \n",
    "    store, \n",
    "    count(distinct(dept)) as dept_count\n",
    "from df_train\n",
    "group by store\n",
    "order by dept_count\n",
    "    \"\"\"\n",
    "\n",
    "result = sqldf(query_1, globals())  \n",
    "print(result)"
   ]
  },
  {
   "cell_type": "code",
   "execution_count": 139,
   "id": "2035634f-897a-4306-b921-126777ca9d31",
   "metadata": {},
   "outputs": [
    {
     "name": "stdout",
     "output_type": "stream",
     "text": [
      "    Store  IsHoliday  avg_temperature  avg_fuel_price\n",
      "0       1          0        67.698757        3.269722\n",
      "1       1          1        56.684615        3.123000\n",
      "2       2          0        67.540178        3.269722\n",
      "3       2          1        56.175385        3.123000\n",
      "4       4          0        62.365858        3.264645\n",
      "5       4          1        49.076923        3.128000\n",
      "6       6          0        69.243136        3.269722\n",
      "7       6          1        58.904615        3.123000\n",
      "8       8          0        62.132308        3.269722\n",
      "9       8          1        48.803077        3.123000\n",
      "10     11          0        71.857160        3.269722\n",
      "11     11          1        62.899231        3.123000\n",
      "12     13          0        53.183491        3.341260\n",
      "13     13          1        40.932308        3.166308\n",
      "14     14          0        57.131302        3.482509\n",
      "15     14          1        44.879231        3.397154\n",
      "16     19          0        51.693550        3.648408\n",
      "17     19          1        40.028462        3.577692\n",
      "18     20          0        54.777633        3.482509\n",
      "19     20          1        42.303077        3.397154\n",
      "20     24          0        53.412899        3.648408\n",
      "21     24          1        40.774615        3.577692\n",
      "22     26          0        43.147337        3.504485\n",
      "23     26          1        30.850000        3.411923\n",
      "24     27          0        56.649704        3.648408\n",
      "25     27          1        45.059231        3.577692\n",
      "26     28          0        70.086686        3.654562\n",
      "27     28          1        58.396923        3.501846\n",
      "28     31          0        68.238639        3.269722\n",
      "29     31          1        56.601538        3.123000\n",
      "30     32          0        52.168757        3.307935\n",
      "31     32          1        38.935385        3.118462\n",
      "32     33          0        76.225562        3.625615\n",
      "33     33          1        65.200769        3.486077\n",
      "34     34          0        59.040059        3.264645\n",
      "35     34          1        45.990000        3.128000\n",
      "36     36          0        70.907574        3.256254\n",
      "37     36          1        61.453846        3.111923\n",
      "38     39          0        70.378521        3.269722\n",
      "39     39          1        60.814615        3.123000\n",
      "40     40          0        47.193077        3.504485\n",
      "41     40          1        32.840000        3.411923\n",
      "42     41          0        47.824260        3.307935\n",
      "43     41          1        35.933077        3.118462\n"
     ]
    }
   ],
   "source": [
    "#For each store, what is the average temperature and average fuel price separately for holidays and non-holidays for stores of type 'A' only\n",
    "query_1 = \"\"\"\n",
    "select\n",
    "    f.Store,\n",
    "    f.IsHoliday,\n",
    "    avg(f.Temperature) as avg_temperature,\n",
    "    avg(f.Fuel_Price) as avg_fuel_price\n",
    "from df_features as f\n",
    "inner join \n",
    "    df_stores as s\n",
    "    on f.Store = s.Store\n",
    "where s.Type = 'A'\n",
    "group by  f.Store, IsHoliday\n",
    "order by f.Store\n",
    "\"\"\"\n",
    "result = sqldf(query_1, globals())\n",
    "print(result)"
   ]
  },
  {
   "cell_type": "markdown",
   "id": "aba80ff8-bc6a-4c33-abc3-c8e82392749f",
   "metadata": {},
   "source": [
    "## union\n",
    "\n",
    "Unions stack results from multiple queries into a single result set.\n",
    "\n",
    "union: Combines rows from both queries and removes duplicates.\n",
    "\n",
    "union all: Combines rows from both queries including duplicates."
   ]
  },
  {
   "cell_type": "code",
   "execution_count": 143,
   "id": "5032d891-ddb6-40c4-bdbf-b0de4e47867b",
   "metadata": {},
   "outputs": [
    {
     "name": "stdout",
     "output_type": "stream",
     "text": [
      "      Store  Dept\n",
      "0         1     1\n",
      "1         1     2\n",
      "2         1     3\n",
      "3         1     4\n",
      "4         1     5\n",
      "...     ...   ...\n",
      "5894     45    93\n",
      "5895     45    94\n",
      "5896     45    95\n",
      "5897     45    97\n",
      "5898     45    98\n",
      "\n",
      "[5899 rows x 2 columns]\n"
     ]
    }
   ],
   "source": [
    "#Show all (Store, Dept) combinations from 2010-12-24 and 2010-12-31, including duplicates if they appeared both weeks.\n",
    "query = \"\"\"\n",
    "select\n",
    "    Store,\n",
    "    Dept\n",
    "from df_train\n",
    "where Date = '2010-12-24'\n",
    "union all\n",
    "select \n",
    "    Store,\n",
    "    Dept\n",
    "from df_train\n",
    "where Date = '2010-12-31'\n",
    "\"\"\"\n",
    "result = sqldf(query, globals())\n",
    "print(result)"
   ]
  },
  {
   "cell_type": "code",
   "execution_count": 145,
   "id": "fde0b72f-0b79-4519-9114-81a54b989144",
   "metadata": {},
   "outputs": [
    {
     "name": "stdout",
     "output_type": "stream",
     "text": [
      "      Store  Dept\n",
      "0         1     1\n",
      "1         1     2\n",
      "2         1     3\n",
      "3         1     4\n",
      "4         1     5\n",
      "...     ...   ...\n",
      "2983     45    93\n",
      "2984     45    94\n",
      "2985     45    95\n",
      "2986     45    97\n",
      "2987     45    98\n",
      "\n",
      "[2988 rows x 2 columns]\n"
     ]
    }
   ],
   "source": [
    "# Show the unique list of (Store, Dept) combinations that appeared in either week — no duplicates\n",
    "query = \"\"\"\n",
    "select\n",
    "    Store,\n",
    "    Dept\n",
    "from df_train\n",
    "where Date = '2010-12-24'\n",
    "union \n",
    "select \n",
    "    Store,\n",
    "    Dept\n",
    "from df_train\n",
    "where Date = '2010-12-31'\n",
    "\"\"\"\n",
    "result = sqldf(query, globals())\n",
    "print(result)"
   ]
  },
  {
   "cell_type": "markdown",
   "id": "62e3050d-4070-4986-a719-4bedfb7dada4",
   "metadata": {},
   "source": [
    "## Analytic Functions\n",
    "\n",
    "Analytic functions — also known as window functions — let you perform calculations across rows related in position, while still returning each row individually. Unlike aggregate functions, they don’t collapse rows.\n",
    "\n",
    "ROW_NUMBER(), RANK(), DENSE_RANK()\n",
    "Assigns sequential numbers or rankings within a partition.\n",
    "\n",
    "LEAD(), LAG()\n",
    "Accesses a value in the next or previous row (e.g. to compute changes).\n",
    "\n",
    "Partitioning (e.g. OVER (PARTITION BY ...))\n",
    "Apply aggregates or rankings per group.\n",
    "\n",
    "Window frames (e.g. ROWS BETWEEN UNBOUNDED PRECEDING AND CURRENT ROW)\n",
    "Control the window scope for running totals or moving averages"
   ]
  },
  {
   "cell_type": "markdown",
   "id": "42648c1a-0ae3-4907-9d0f-b40194717205",
   "metadata": {},
   "source": [
    "### ... over (...) as"
   ]
  },
  {
   "cell_type": "code",
   "execution_count": 149,
   "id": "1c6d00c9-1bbd-4730-ad0c-bc0d3c6fb9f9",
   "metadata": {},
   "outputs": [
    {
     "name": "stdout",
     "output_type": "stream",
     "text": [
      "        Store  Dept        Date  Weekly_Sales  IsHoliday  \\\n",
      "0           1     1  2010-02-05      24924.50          0   \n",
      "1           1     1  2010-02-12      46039.49          1   \n",
      "2           1     1  2010-02-19      41595.55          0   \n",
      "3           1     1  2010-02-26      19403.54          0   \n",
      "4           1     1  2010-03-05      21827.90          0   \n",
      "...       ...   ...         ...           ...        ...   \n",
      "421565     45    98  2012-09-28        508.37          0   \n",
      "421566     45    98  2012-10-05        628.10          0   \n",
      "421567     45    98  2012-10-12       1061.02          0   \n",
      "421568     45    98  2012-10-19        760.01          0   \n",
      "421569     45    98  2012-10-26       1076.80          0   \n",
      "\n",
      "        moving_avg_Weekly_Sales  \n",
      "0                  24924.500000  \n",
      "1                  35481.995000  \n",
      "2                  37519.846667  \n",
      "3                  32990.770000  \n",
      "4                  32216.620000  \n",
      "...                         ...  \n",
      "421565               483.517500  \n",
      "421566               552.432500  \n",
      "421567               666.197500  \n",
      "421568               739.375000  \n",
      "421569               881.482500  \n",
      "\n",
      "[421570 rows x 6 columns]\n"
     ]
    }
   ],
   "source": [
    "#Analytic Functions (or window functions\n",
    "#Analytic aggregate functions\n",
    "#over, PARTITION BY, avg\n",
    "\n",
    "query_1 = \"\"\"\n",
    "    select *,\n",
    "        avg(Weekly_Sales) over(\n",
    "            partition by Store, Dept\n",
    "            order by Date\n",
    "            ROWS BETWEEN 3 PRECEDING AND CURRENT ROW\n",
    "        ) as moving_avg_Weekly_Sales\n",
    "    from df_train\n",
    "    \"\"\"\n",
    "# note that ORDER  must come before the ROWS\n",
    "# ROWS BETWEEN 3 CURRENT  AND CURRENT ROW - the 3 previous rows, the current row\n",
    "\n",
    "\n",
    "result = sqldf(query_1, globals())  \n",
    "print(result)"
   ]
  },
  {
   "cell_type": "code",
   "execution_count": 151,
   "id": "b9252c31-57dd-4b07-ae66-b5cdc7bcc563",
   "metadata": {},
   "outputs": [],
   "source": [
    "# The PARTITION BY clause divides the rows of the table into different groups.\n",
    "# In the query above, we divide by store and dept so that the calculations are separated by pair of store, dept."
   ]
  },
  {
   "cell_type": "code",
   "execution_count": 153,
   "id": "103c85a9-c9b8-4d68-9889-a1c570cc9a60",
   "metadata": {},
   "outputs": [],
   "source": [
    "# ROWS BETWEEN 3 PRECEDING AND 1 FOLLOWING - the 3 previous rows, the current row, and the following row.\n",
    "#BUT\n",
    "#SQLite (which pandasql uses) does not support the FOLLOWING clause in window functions."
   ]
  },
  {
   "cell_type": "code",
   "execution_count": 155,
   "id": "372161f0-248a-493a-9ee0-5eeeb015745f",
   "metadata": {},
   "outputs": [],
   "source": [
    "# https://www.kaggle.com/datasets/hmavrodiev/london-bike-sharing-dataset\n",
    "df_bike = pd.read_csv('london_merged.csv')"
   ]
  },
  {
   "cell_type": "code",
   "execution_count": 157,
   "id": "063a8903-8f31-476d-9b49-52839f7904a2",
   "metadata": {},
   "outputs": [
    {
     "data": {
      "text/html": [
       "<div>\n",
       "<style scoped>\n",
       "    .dataframe tbody tr th:only-of-type {\n",
       "        vertical-align: middle;\n",
       "    }\n",
       "\n",
       "    .dataframe tbody tr th {\n",
       "        vertical-align: top;\n",
       "    }\n",
       "\n",
       "    .dataframe thead th {\n",
       "        text-align: right;\n",
       "    }\n",
       "</style>\n",
       "<table border=\"1\" class=\"dataframe\">\n",
       "  <thead>\n",
       "    <tr style=\"text-align: right;\">\n",
       "      <th></th>\n",
       "      <th>timestamp</th>\n",
       "      <th>cnt</th>\n",
       "      <th>t1</th>\n",
       "      <th>t2</th>\n",
       "      <th>hum</th>\n",
       "      <th>wind_speed</th>\n",
       "      <th>weather_code</th>\n",
       "      <th>is_holiday</th>\n",
       "      <th>is_weekend</th>\n",
       "      <th>season</th>\n",
       "    </tr>\n",
       "  </thead>\n",
       "  <tbody>\n",
       "    <tr>\n",
       "      <th>0</th>\n",
       "      <td>2015-01-04 00:00:00</td>\n",
       "      <td>182</td>\n",
       "      <td>3.0</td>\n",
       "      <td>2.0</td>\n",
       "      <td>93.0</td>\n",
       "      <td>6.0</td>\n",
       "      <td>3.0</td>\n",
       "      <td>0.0</td>\n",
       "      <td>1.0</td>\n",
       "      <td>3.0</td>\n",
       "    </tr>\n",
       "    <tr>\n",
       "      <th>1</th>\n",
       "      <td>2015-01-04 01:00:00</td>\n",
       "      <td>138</td>\n",
       "      <td>3.0</td>\n",
       "      <td>2.5</td>\n",
       "      <td>93.0</td>\n",
       "      <td>5.0</td>\n",
       "      <td>1.0</td>\n",
       "      <td>0.0</td>\n",
       "      <td>1.0</td>\n",
       "      <td>3.0</td>\n",
       "    </tr>\n",
       "    <tr>\n",
       "      <th>2</th>\n",
       "      <td>2015-01-04 02:00:00</td>\n",
       "      <td>134</td>\n",
       "      <td>2.5</td>\n",
       "      <td>2.5</td>\n",
       "      <td>96.5</td>\n",
       "      <td>0.0</td>\n",
       "      <td>1.0</td>\n",
       "      <td>0.0</td>\n",
       "      <td>1.0</td>\n",
       "      <td>3.0</td>\n",
       "    </tr>\n",
       "    <tr>\n",
       "      <th>3</th>\n",
       "      <td>2015-01-04 03:00:00</td>\n",
       "      <td>72</td>\n",
       "      <td>2.0</td>\n",
       "      <td>2.0</td>\n",
       "      <td>100.0</td>\n",
       "      <td>0.0</td>\n",
       "      <td>1.0</td>\n",
       "      <td>0.0</td>\n",
       "      <td>1.0</td>\n",
       "      <td>3.0</td>\n",
       "    </tr>\n",
       "    <tr>\n",
       "      <th>4</th>\n",
       "      <td>2015-01-04 04:00:00</td>\n",
       "      <td>47</td>\n",
       "      <td>2.0</td>\n",
       "      <td>0.0</td>\n",
       "      <td>93.0</td>\n",
       "      <td>6.5</td>\n",
       "      <td>1.0</td>\n",
       "      <td>0.0</td>\n",
       "      <td>1.0</td>\n",
       "      <td>3.0</td>\n",
       "    </tr>\n",
       "  </tbody>\n",
       "</table>\n",
       "</div>"
      ],
      "text/plain": [
       "             timestamp  cnt   t1   t2    hum  wind_speed  weather_code  \\\n",
       "0  2015-01-04 00:00:00  182  3.0  2.0   93.0         6.0           3.0   \n",
       "1  2015-01-04 01:00:00  138  3.0  2.5   93.0         5.0           1.0   \n",
       "2  2015-01-04 02:00:00  134  2.5  2.5   96.5         0.0           1.0   \n",
       "3  2015-01-04 03:00:00   72  2.0  2.0  100.0         0.0           1.0   \n",
       "4  2015-01-04 04:00:00   47  2.0  0.0   93.0         6.5           1.0   \n",
       "\n",
       "   is_holiday  is_weekend  season  \n",
       "0         0.0         1.0     3.0  \n",
       "1         0.0         1.0     3.0  \n",
       "2         0.0         1.0     3.0  \n",
       "3         0.0         1.0     3.0  \n",
       "4         0.0         1.0     3.0  "
      ]
     },
     "execution_count": 157,
     "metadata": {},
     "output_type": "execute_result"
    }
   ],
   "source": [
    "df_bike.head()"
   ]
  },
  {
   "cell_type": "markdown",
   "id": "a8715dba-b86d-460a-bac3-af335f83c952",
   "metadata": {},
   "source": [
    "### with ... as\n",
    "\n",
    "create a new table using with ... as"
   ]
  },
  {
   "cell_type": "code",
   "execution_count": 160,
   "id": "f991fe17-988c-4406-82ff-044ebad7b26a",
   "metadata": {},
   "outputs": [
    {
     "name": "stdout",
     "output_type": "stream",
     "text": [
      "           date month  share_of_day  cumulative_shares\n",
      "0    2015-01-04    01          9234               9234\n",
      "1    2015-01-05    01         20372              29606\n",
      "2    2015-01-06    01         20613              50219\n",
      "3    2015-01-07    01         21064              71283\n",
      "4    2015-01-08    01         15601              86884\n",
      "..          ...   ...           ...                ...\n",
      "357  2015-12-27    12          9378             547324\n",
      "358  2015-12-28    12         13732             561056\n",
      "359  2015-12-29    12         15592             576648\n",
      "360  2015-12-30    12         12301             588949\n",
      "361  2015-12-31    12         13889             602838\n",
      "\n",
      "[362 rows x 4 columns]\n"
     ]
    }
   ],
   "source": [
    "# Analytic Functions (or window functions)\n",
    "# Analytic aggregate functions\n",
    "# over, PARTITION BY, sum\n",
    "\n",
    "# SQLite does not support date(timestamp) , instead use: strftime('%Y-%m-%d', timestamp)\n",
    "# SQLite does not support EXTRACT(YEAR FROM timestamp) , instead use: strftime('%Y', timestamp)\n",
    "# note that strftime returns string\n",
    "\n",
    "query_1 = \"\"\"\n",
    "        with share_per_day as (\n",
    "            select strftime('%Y-%m-%d', timestamp) as date , strftime('%m', timestamp) as month,  sum(cnt) as share_of_day\n",
    "            from df_bike\n",
    "            where strftime('%Y', timestamp) = '2015'\n",
    "            group by date\n",
    "        )\n",
    "        select \n",
    "            *,\n",
    "            sum(share_of_day) over(\n",
    "                partition by month\n",
    "                order by date\n",
    "                rows between unbounded preceding and current row\n",
    "                \n",
    "            ) as cumulative_shares\n",
    "        from share_per_day\n",
    "        \"\"\"\n",
    "\n",
    "\n",
    "\n",
    "result = sqldf(query_1, globals())  \n",
    "print(result)"
   ]
  },
  {
   "cell_type": "code",
   "execution_count": 162,
   "id": "f55f31c5-12e6-4ecc-8200-e02582b04014",
   "metadata": {},
   "outputs": [
    {
     "name": "stdout",
     "output_type": "stream",
     "text": [
      "          date month  share_of_day last_day_of_month  cumulative_shares\n",
      "0   2015-01-31    01         10250        2015-01-31             546639\n",
      "1   2015-02-28    02         13529        2015-02-28             543594\n",
      "2   2015-03-31    03         22602        2015-03-31             695934\n",
      "3   2015-04-30    04         31621        2015-04-30             831582\n",
      "4   2015-05-31    05         14998        2015-05-31             895413\n",
      "5   2015-06-30    06         43326        2015-06-30            1033252\n",
      "6   2015-07-31    07         36675        2015-07-31            1120687\n",
      "7   2015-08-31    08          9639        2015-08-31            1033951\n",
      "8   2015-09-30    09         34941        2015-09-30             892478\n",
      "9   2015-10-31    10         27464        2015-10-31             865046\n",
      "10  2015-11-30    11         20918        2015-11-30             677332\n",
      "11  2015-12-31    12         13889        2015-12-31             602838\n"
     ]
    }
   ],
   "source": [
    "#several with ... as()\n",
    "\n",
    "query_1 = \"\"\"\n",
    "        with share_per_day as (\n",
    "            select strftime('%Y-%m-%d', timestamp) as date , strftime('%m', timestamp) as month,  sum(cnt) as share_of_day\n",
    "            from df_bike\n",
    "            where strftime('%Y', timestamp) = '2015'\n",
    "            group by date\n",
    "        ),\n",
    "        share_with_last_day as(\n",
    "            select \n",
    "                *,\n",
    "                max(date) over (partition by month) as last_day_of_month,\n",
    "                sum(share_of_day) over(\n",
    "                    partition by month\n",
    "                    order by date\n",
    "                    rows between unbounded preceding and current row\n",
    "                ) as cumulative_shares\n",
    "            from share_per_day\n",
    "        )\n",
    "        select *\n",
    "        from share_with_last_day\n",
    "        where date = last_day_of_month\n",
    "        \"\"\"\n",
    "\n",
    "\n",
    "\n",
    "result = sqldf(query_1, globals())  \n",
    "print(result)"
   ]
  },
  {
   "cell_type": "markdown",
   "id": "fc262036-06be-4a96-a72c-4f489c51fe21",
   "metadata": {},
   "source": [
    "## rank() and lag()"
   ]
  },
  {
   "cell_type": "code",
   "execution_count": 171,
   "id": "4c15979c-a235-487c-8cfc-bec2a57a190a",
   "metadata": {},
   "outputs": [],
   "source": [
    "hotel_bookings = pd.read_csv(\"hotel_bookings.csv\")"
   ]
  },
  {
   "cell_type": "code",
   "execution_count": 173,
   "id": "b487b0ed-0ec0-4a5a-b226-f6eb9c6549a6",
   "metadata": {},
   "outputs": [
    {
     "data": {
      "text/html": [
       "<div>\n",
       "<style scoped>\n",
       "    .dataframe tbody tr th:only-of-type {\n",
       "        vertical-align: middle;\n",
       "    }\n",
       "\n",
       "    .dataframe tbody tr th {\n",
       "        vertical-align: top;\n",
       "    }\n",
       "\n",
       "    .dataframe thead th {\n",
       "        text-align: right;\n",
       "    }\n",
       "</style>\n",
       "<table border=\"1\" class=\"dataframe\">\n",
       "  <thead>\n",
       "    <tr style=\"text-align: right;\">\n",
       "      <th></th>\n",
       "      <th>rownames</th>\n",
       "      <th>hotel</th>\n",
       "      <th>is_canceled</th>\n",
       "      <th>lead_time</th>\n",
       "      <th>arrival_date_year</th>\n",
       "      <th>arrival_date_month</th>\n",
       "      <th>arrival_date_week_number</th>\n",
       "      <th>arrival_date_day_of_month</th>\n",
       "      <th>stays_in_weekend_nights</th>\n",
       "      <th>stays_in_week_nights</th>\n",
       "      <th>...</th>\n",
       "      <th>deposit_type</th>\n",
       "      <th>agent</th>\n",
       "      <th>company</th>\n",
       "      <th>days_in_waiting_list</th>\n",
       "      <th>customer_type</th>\n",
       "      <th>average_daily_rate</th>\n",
       "      <th>required_car_parking_spaces</th>\n",
       "      <th>total_of_special_requests</th>\n",
       "      <th>reservation_status</th>\n",
       "      <th>reservation_status_date</th>\n",
       "    </tr>\n",
       "  </thead>\n",
       "  <tbody>\n",
       "    <tr>\n",
       "      <th>0</th>\n",
       "      <td>1</td>\n",
       "      <td>City Hotel</td>\n",
       "      <td>1</td>\n",
       "      <td>1</td>\n",
       "      <td>2015</td>\n",
       "      <td>September</td>\n",
       "      <td>40</td>\n",
       "      <td>30</td>\n",
       "      <td>0</td>\n",
       "      <td>2</td>\n",
       "      <td>...</td>\n",
       "      <td>Non Refund</td>\n",
       "      <td>50.0</td>\n",
       "      <td>NaN</td>\n",
       "      <td>0</td>\n",
       "      <td>Transient</td>\n",
       "      <td>98.10</td>\n",
       "      <td>0</td>\n",
       "      <td>0</td>\n",
       "      <td>Canceled</td>\n",
       "      <td>2015-09-29</td>\n",
       "    </tr>\n",
       "    <tr>\n",
       "      <th>1</th>\n",
       "      <td>2</td>\n",
       "      <td>Resort Hotel</td>\n",
       "      <td>1</td>\n",
       "      <td>19</td>\n",
       "      <td>2016</td>\n",
       "      <td>March</td>\n",
       "      <td>12</td>\n",
       "      <td>19</td>\n",
       "      <td>2</td>\n",
       "      <td>4</td>\n",
       "      <td>...</td>\n",
       "      <td>No Deposit</td>\n",
       "      <td>240.0</td>\n",
       "      <td>NaN</td>\n",
       "      <td>0</td>\n",
       "      <td>Transient</td>\n",
       "      <td>70.17</td>\n",
       "      <td>0</td>\n",
       "      <td>1</td>\n",
       "      <td>Canceled</td>\n",
       "      <td>2016-03-02</td>\n",
       "    </tr>\n",
       "    <tr>\n",
       "      <th>2</th>\n",
       "      <td>3</td>\n",
       "      <td>Resort Hotel</td>\n",
       "      <td>0</td>\n",
       "      <td>9</td>\n",
       "      <td>2017</td>\n",
       "      <td>August</td>\n",
       "      <td>31</td>\n",
       "      <td>1</td>\n",
       "      <td>0</td>\n",
       "      <td>4</td>\n",
       "      <td>...</td>\n",
       "      <td>No Deposit</td>\n",
       "      <td>241.0</td>\n",
       "      <td>NaN</td>\n",
       "      <td>0</td>\n",
       "      <td>Transient</td>\n",
       "      <td>193.40</td>\n",
       "      <td>0</td>\n",
       "      <td>1</td>\n",
       "      <td>Check-Out</td>\n",
       "      <td>2017-08-05</td>\n",
       "    </tr>\n",
       "    <tr>\n",
       "      <th>3</th>\n",
       "      <td>4</td>\n",
       "      <td>Resort Hotel</td>\n",
       "      <td>0</td>\n",
       "      <td>110</td>\n",
       "      <td>2016</td>\n",
       "      <td>November</td>\n",
       "      <td>46</td>\n",
       "      <td>11</td>\n",
       "      <td>0</td>\n",
       "      <td>1</td>\n",
       "      <td>...</td>\n",
       "      <td>No Deposit</td>\n",
       "      <td>314.0</td>\n",
       "      <td>NaN</td>\n",
       "      <td>0</td>\n",
       "      <td>Transient</td>\n",
       "      <td>36.24</td>\n",
       "      <td>1</td>\n",
       "      <td>0</td>\n",
       "      <td>Check-Out</td>\n",
       "      <td>2016-11-12</td>\n",
       "    </tr>\n",
       "    <tr>\n",
       "      <th>4</th>\n",
       "      <td>5</td>\n",
       "      <td>City Hotel</td>\n",
       "      <td>0</td>\n",
       "      <td>329</td>\n",
       "      <td>2017</td>\n",
       "      <td>July</td>\n",
       "      <td>30</td>\n",
       "      <td>27</td>\n",
       "      <td>0</td>\n",
       "      <td>2</td>\n",
       "      <td>...</td>\n",
       "      <td>No Deposit</td>\n",
       "      <td>9.0</td>\n",
       "      <td>NaN</td>\n",
       "      <td>0</td>\n",
       "      <td>Transient</td>\n",
       "      <td>89.10</td>\n",
       "      <td>0</td>\n",
       "      <td>1</td>\n",
       "      <td>Check-Out</td>\n",
       "      <td>2017-07-29</td>\n",
       "    </tr>\n",
       "  </tbody>\n",
       "</table>\n",
       "<p>5 rows × 33 columns</p>\n",
       "</div>"
      ],
      "text/plain": [
       "   rownames         hotel  is_canceled  lead_time  arrival_date_year  \\\n",
       "0         1    City Hotel            1          1               2015   \n",
       "1         2  Resort Hotel            1         19               2016   \n",
       "2         3  Resort Hotel            0          9               2017   \n",
       "3         4  Resort Hotel            0        110               2016   \n",
       "4         5    City Hotel            0        329               2017   \n",
       "\n",
       "  arrival_date_month  arrival_date_week_number  arrival_date_day_of_month  \\\n",
       "0          September                        40                         30   \n",
       "1              March                        12                         19   \n",
       "2             August                        31                          1   \n",
       "3           November                        46                         11   \n",
       "4               July                        30                         27   \n",
       "\n",
       "   stays_in_weekend_nights  stays_in_week_nights  ...  deposit_type  agent  \\\n",
       "0                        0                     2  ...    Non Refund   50.0   \n",
       "1                        2                     4  ...    No Deposit  240.0   \n",
       "2                        0                     4  ...    No Deposit  241.0   \n",
       "3                        0                     1  ...    No Deposit  314.0   \n",
       "4                        0                     2  ...    No Deposit    9.0   \n",
       "\n",
       "   company days_in_waiting_list customer_type average_daily_rate  \\\n",
       "0      NaN                    0     Transient              98.10   \n",
       "1      NaN                    0     Transient              70.17   \n",
       "2      NaN                    0     Transient             193.40   \n",
       "3      NaN                    0     Transient              36.24   \n",
       "4      NaN                    0     Transient              89.10   \n",
       "\n",
       "  required_car_parking_spaces  total_of_special_requests  reservation_status  \\\n",
       "0                           0                          0            Canceled   \n",
       "1                           0                          1            Canceled   \n",
       "2                           0                          1           Check-Out   \n",
       "3                           1                          0           Check-Out   \n",
       "4                           0                          1           Check-Out   \n",
       "\n",
       "   reservation_status_date  \n",
       "0               2015-09-29  \n",
       "1               2016-03-02  \n",
       "2               2017-08-05  \n",
       "3               2016-11-12  \n",
       "4               2017-07-29  \n",
       "\n",
       "[5 rows x 33 columns]"
      ]
     },
     "execution_count": 173,
     "metadata": {},
     "output_type": "execute_result"
    }
   ],
   "source": [
    "hotel_bookings.head()"
   ]
  },
  {
   "cell_type": "code",
   "execution_count": 175,
   "id": "47a6e544-8ce2-4956-b40a-7940acf9ae56",
   "metadata": {},
   "outputs": [
    {
     "name": "stdout",
     "output_type": "stream",
     "text": [
      "            hotel reservation_status_date  resreve_rank\n",
      "0      City Hotel              2015-01-01             1\n",
      "1      City Hotel              2015-01-01             1\n",
      "2      City Hotel              2015-01-01             1\n",
      "3      City Hotel              2015-01-01             1\n",
      "4      City Hotel              2015-01-01             1\n",
      "..            ...                     ...           ...\n",
      "995  Resort Hotel              2017-08-17           354\n",
      "996  Resort Hotel              2017-08-18           355\n",
      "997  Resort Hotel              2017-08-18           355\n",
      "998  Resort Hotel              2017-08-21           357\n",
      "999  Resort Hotel              2017-09-10           358\n",
      "\n",
      "[1000 rows x 3 columns]\n"
     ]
    }
   ],
   "source": [
    "# rank the bookings based on reservation time and then lead time, for each hotel.\n",
    "\n",
    "query_1 = \"\"\"\n",
    "select\n",
    "    hotel,\n",
    "    reservation_status_date,\n",
    "    rank() over(\n",
    "        partition by hotel\n",
    "        order by reservation_status_date\n",
    "\n",
    "    ) as resreve_rank\n",
    "from hotel_bookings\n",
    "\n",
    "\"\"\"\n",
    "result = sqldf(query_1, globals())  \n",
    "print(result)"
   ]
  },
  {
   "cell_type": "code",
   "execution_count": 177,
   "id": "8e5d3fc9-5db4-491b-bb5e-3e7833bdf90c",
   "metadata": {},
   "outputs": [
    {
     "name": "stdout",
     "output_type": "stream",
     "text": [
      "            hotel reservation_status_date  resreve_rank\n",
      "0      City Hotel              2015-01-01             1\n",
      "1      City Hotel              2015-01-01             1\n",
      "2      City Hotel              2015-01-01             3\n",
      "3      City Hotel              2015-01-01             4\n",
      "4      City Hotel              2015-01-01             5\n",
      "..            ...                     ...           ...\n",
      "995  Resort Hotel              2017-08-17           354\n",
      "996  Resort Hotel              2017-08-18           355\n",
      "997  Resort Hotel              2017-08-18           356\n",
      "998  Resort Hotel              2017-08-21           357\n",
      "999  Resort Hotel              2017-09-10           358\n",
      "\n",
      "[1000 rows x 3 columns]\n"
     ]
    }
   ],
   "source": [
    "query_1 = \"\"\"\n",
    "select\n",
    "    hotel,\n",
    "    reservation_status_date,\n",
    "    rank() over(\n",
    "        partition by hotel\n",
    "        order\n",
    "            by reservation_status_date,\n",
    "            lead_time\n",
    "\n",
    "    ) as resreve_rank\n",
    "from hotel_bookings\n",
    "\n",
    "\"\"\"\n",
    "result = sqldf(query_1, globals())  \n",
    "print(result)"
   ]
  },
  {
   "cell_type": "code",
   "execution_count": 179,
   "id": "7073f38c-20e6-4c5c-9f68-dd80a2085d45",
   "metadata": {},
   "outputs": [
    {
     "name": "stdout",
     "output_type": "stream",
     "text": [
      "            hotel reservation_status_date  lead_time previous_booking_date  \\\n",
      "0    Resort Hotel              2015-01-02        328                   NaT   \n",
      "1    Resort Hotel              2015-01-30        275            2015-01-02   \n",
      "2    Resort Hotel              2015-03-03        222            2015-01-30   \n",
      "3    Resort Hotel              2015-04-04        152            2015-03-03   \n",
      "4    Resort Hotel              2015-06-17         47            2015-04-04   \n",
      "..            ...                     ...        ...                   ...   \n",
      "995    City Hotel              2017-08-25        119            2017-08-24   \n",
      "996    City Hotel              2017-08-26        159            2017-08-25   \n",
      "997    City Hotel              2017-08-26        230            2017-08-26   \n",
      "998    City Hotel              2017-08-27        457            2017-08-26   \n",
      "999    City Hotel              2017-08-27        457            2017-08-27   \n",
      "\n",
      "     days_since_last_booking  \n",
      "0                       <NA>  \n",
      "1                         28  \n",
      "2                         32  \n",
      "3                         32  \n",
      "4                         74  \n",
      "..                       ...  \n",
      "995                        1  \n",
      "996                        1  \n",
      "997                        0  \n",
      "998                        1  \n",
      "999                        0  \n",
      "\n",
      "[1000 rows x 5 columns]\n"
     ]
    }
   ],
   "source": [
    "# for each hotel, investigate how much did it take to recieve a new booking. \n",
    "# first order the boking by reservation time and lead time.\n",
    "hotel_bookings['reservation_status_date'] = pd.to_datetime(hotel_bookings['reservation_status_date']).dt.date\n",
    "query_1 = \"\"\"\n",
    "SELECT\n",
    "    hotel,\n",
    "    reservation_status_date,\n",
    "    lead_time,\n",
    "    LAG(reservation_status_date) OVER (\n",
    "        PARTITION BY hotel\n",
    "        ORDER BY reservation_status_date, lead_time\n",
    "    ) AS previous_booking_date,\n",
    "    reservation_status_date - LAG(reservation_status_date) OVER (\n",
    "        PARTITION BY hotel\n",
    "        ORDER BY reservation_status_date, lead_time\n",
    "    ) AS days_since_last_booking\n",
    "FROM hotel_bookings\n",
    "\"\"\"\n",
    "#using duckdb:\n",
    "result = query_df(hotel_bookings, 'hotel_bookings', query_1).df()\n",
    "print(result)"
   ]
  },
  {
   "cell_type": "markdown",
   "id": "15f53c25-9763-42d4-b3e4-9921a7822afb",
   "metadata": {},
   "source": [
    "## Nested and repeated Data\n",
    "### Nested\n",
    "\n",
    "all of the information from the a potential separate table is collapsed into a single column "
   ]
  },
  {
   "cell_type": "code",
   "execution_count": 182,
   "id": "4b71f1ea-3ebe-4408-b5ae-f6a8cc6c116b",
   "metadata": {},
   "outputs": [
    {
     "data": {
      "text/html": [
       "<div>\n",
       "<style scoped>\n",
       "    .dataframe tbody tr th:only-of-type {\n",
       "        vertical-align: middle;\n",
       "    }\n",
       "\n",
       "    .dataframe tbody tr th {\n",
       "        vertical-align: top;\n",
       "    }\n",
       "\n",
       "    .dataframe thead th {\n",
       "        text-align: right;\n",
       "    }\n",
       "</style>\n",
       "<table border=\"1\" class=\"dataframe\">\n",
       "  <thead>\n",
       "    <tr style=\"text-align: right;\">\n",
       "      <th></th>\n",
       "      <th>ID</th>\n",
       "      <th>Name</th>\n",
       "      <th>Age</th>\n",
       "      <th>Animal</th>\n",
       "      <th>Toy</th>\n",
       "    </tr>\n",
       "  </thead>\n",
       "  <tbody>\n",
       "    <tr>\n",
       "      <th>0</th>\n",
       "      <td>1</td>\n",
       "      <td>Moon</td>\n",
       "      <td>9</td>\n",
       "      <td>Dog</td>\n",
       "      <td>{'Name': 'McFly', 'Type': 'Frisbee'}</td>\n",
       "    </tr>\n",
       "    <tr>\n",
       "      <th>1</th>\n",
       "      <td>2</td>\n",
       "      <td>Ripley</td>\n",
       "      <td>7</td>\n",
       "      <td>Cat</td>\n",
       "      <td>{'Name': 'Fluffy', 'Type': 'Feather'}</td>\n",
       "    </tr>\n",
       "    <tr>\n",
       "      <th>2</th>\n",
       "      <td>3</td>\n",
       "      <td>Napoleon</td>\n",
       "      <td>1</td>\n",
       "      <td>Fish</td>\n",
       "      <td>{'Name': 'Eddy', 'Type': 'Castle'}</td>\n",
       "    </tr>\n",
       "  </tbody>\n",
       "</table>\n",
       "</div>"
      ],
      "text/plain": [
       "   ID      Name  Age Animal                                    Toy\n",
       "0   1      Moon    9    Dog   {'Name': 'McFly', 'Type': 'Frisbee'}\n",
       "1   2    Ripley    7    Cat  {'Name': 'Fluffy', 'Type': 'Feather'}\n",
       "2   3  Napoleon    1   Fish     {'Name': 'Eddy', 'Type': 'Castle'}"
      ]
     },
     "execution_count": 182,
     "metadata": {},
     "output_type": "execute_result"
    }
   ],
   "source": [
    "\n",
    "\n",
    "# Create the pets_and_toys DataFrame\n",
    "data = {\n",
    "    'ID': [1, 2, 3],\n",
    "    'Name': ['Moon', 'Ripley', 'Napoleon'],\n",
    "    'Age': [9, 7, 1],\n",
    "    'Animal': ['Dog', 'Cat', 'Fish'],\n",
    "    'Toy': [\n",
    "        {'Name': 'McFly', 'Type': 'Frisbee'},\n",
    "        {'Name': 'Fluffy', 'Type': 'Feather'},\n",
    "        {'Name': 'Eddy', 'Type': 'Castle'}\n",
    "    ]\n",
    "}\n",
    "\n",
    "pets_and_toys = pd.DataFrame(data)\n",
    "pets_and_toys\n",
    "# Moon has a toy called McFly which tyoe is Frisbee"
   ]
  },
  {
   "cell_type": "code",
   "execution_count": 184,
   "id": "31ced91f-9be7-49c0-bfd0-a206f0353142",
   "metadata": {},
   "outputs": [
    {
     "name": "stdout",
     "output_type": "stream",
     "text": [
      "   id  pet_name toy_name toy_type\n",
      "0   1      Moon    McFly  Frisbee\n",
      "1   2    Ripley   Fluffy  Feather\n",
      "2   3  Napoleon     Eddy   Castle\n"
     ]
    }
   ],
   "source": [
    "query_1 = \"\"\"\n",
    "select\n",
    "    ID as id,\n",
    "    Name as pet_name,\n",
    "    Toy.Name as toy_name,\n",
    "    Toy.Type as toy_type\n",
    "   \n",
    "    \n",
    "from pets_and_toys\n",
    "\n",
    "\"\"\"\n",
    "#using duckdb:\n",
    "result = query_df(pets_and_toys, 'pets_and_toys', query_1).df()\n",
    "print(result)"
   ]
  },
  {
   "cell_type": "markdown",
   "id": "efc08bae-27de-402b-910a-c6b506b8ea93",
   "metadata": {},
   "source": [
    "### Repeated\n",
    "\n",
    "a similar idea as nested data (dictionary), but each cell can have several values in it (it becomes a list)"
   ]
  },
  {
   "cell_type": "code",
   "execution_count": 187,
   "id": "3fa207bf-a7ed-41b4-89a4-3937b43f5434",
   "metadata": {},
   "outputs": [
    {
     "data": {
      "text/html": [
       "<div>\n",
       "<style scoped>\n",
       "    .dataframe tbody tr th:only-of-type {\n",
       "        vertical-align: middle;\n",
       "    }\n",
       "\n",
       "    .dataframe tbody tr th {\n",
       "        vertical-align: top;\n",
       "    }\n",
       "\n",
       "    .dataframe thead th {\n",
       "        text-align: right;\n",
       "    }\n",
       "</style>\n",
       "<table border=\"1\" class=\"dataframe\">\n",
       "  <thead>\n",
       "    <tr style=\"text-align: right;\">\n",
       "      <th></th>\n",
       "      <th>ID</th>\n",
       "      <th>Name</th>\n",
       "      <th>Age</th>\n",
       "      <th>Animal</th>\n",
       "      <th>Toys</th>\n",
       "    </tr>\n",
       "  </thead>\n",
       "  <tbody>\n",
       "    <tr>\n",
       "      <th>0</th>\n",
       "      <td>1</td>\n",
       "      <td>Moon</td>\n",
       "      <td>9</td>\n",
       "      <td>Dog</td>\n",
       "      <td>[{'Name': 'McFly', 'Type': 'Frisbee'}, {'Name'...</td>\n",
       "    </tr>\n",
       "    <tr>\n",
       "      <th>1</th>\n",
       "      <td>2</td>\n",
       "      <td>Ripley</td>\n",
       "      <td>7</td>\n",
       "      <td>Cat</td>\n",
       "      <td>[{'Name': 'Fluffy', 'Type': 'Feather'}, {'Name...</td>\n",
       "    </tr>\n",
       "    <tr>\n",
       "      <th>2</th>\n",
       "      <td>3</td>\n",
       "      <td>Napoleon</td>\n",
       "      <td>1</td>\n",
       "      <td>Fish</td>\n",
       "      <td>[{'Name': 'Eddy', 'Type': 'Castle'}]</td>\n",
       "    </tr>\n",
       "  </tbody>\n",
       "</table>\n",
       "</div>"
      ],
      "text/plain": [
       "   ID      Name  Age Animal                                               Toys\n",
       "0   1      Moon    9    Dog  [{'Name': 'McFly', 'Type': 'Frisbee'}, {'Name'...\n",
       "1   2    Ripley    7    Cat  [{'Name': 'Fluffy', 'Type': 'Feather'}, {'Name...\n",
       "2   3  Napoleon    1   Fish               [{'Name': 'Eddy', 'Type': 'Castle'}]"
      ]
     },
     "execution_count": 187,
     "metadata": {},
     "output_type": "execute_result"
    }
   ],
   "source": [
    "data = {\n",
    "    'ID': [1, 2, 3],\n",
    "    'Name': ['Moon', 'Ripley', 'Napoleon'],\n",
    "    'Age': [9, 7, 1],\n",
    "    'Animal': ['Dog', 'Cat', 'Fish'],\n",
    "    'Toys': [\n",
    "        [  # Nested list of dicts for Moon (Dog)\n",
    "            {'Name': 'McFly', 'Type': 'Frisbee'},\n",
    "            {'Name': 'Scully', 'Type': 'Bone'},\n",
    "            {'Name': 'Pusheen', 'Type': 'Rope'}\n",
    "        ],\n",
    "        [  # Nested list of dicts for Ripley (Cat)\n",
    "            {'Name': 'Fluffy', 'Type': 'Feather'},\n",
    "            {'Name': 'Robert', 'Type': 'Ball'}\n",
    "        ],\n",
    "        [  # Nested list of dicts for Napoleon (Fish)\n",
    "            {'Name': 'Eddy', 'Type': 'Castle'}\n",
    "        ]\n",
    "    ]\n",
    "}\n",
    "\n",
    "more_pets_and_toys = pd.DataFrame(data)\n",
    "\n",
    "\n",
    "more_pets_and_toys"
   ]
  },
  {
   "cell_type": "code",
   "execution_count": 189,
   "id": "b3e81aaa-96d1-4687-bbee-57793993e4a6",
   "metadata": {},
   "outputs": [
    {
     "name": "stdout",
     "output_type": "stream",
     "text": [
      "   id  pet_name toy_name toy_type\n",
      "0   3  Napoleon     Eddy   Castle\n",
      "1   1      Moon    McFly  Frisbee\n",
      "2   1      Moon   Scully     Bone\n",
      "3   1      Moon  Pusheen     Rope\n",
      "4   2    Ripley   Fluffy  Feather\n",
      "5   2    Ripley   Robert     Ball\n"
     ]
    }
   ],
   "source": [
    "#con = duckdb.connect(database=':memory:', read_only=False)\n",
    "#con.close()\n",
    "query_1 = \"\"\"\n",
    "SELECT\n",
    "    t1.ID AS id,\n",
    "    t1.Name AS pet_name,\n",
    "    unnested_toy.unnest.Name AS toy_name,   -- Corrected: Access 'Name' from the 'unnest' column\n",
    "    unnested_toy.unnest.Type AS toy_type    -- Corrected: Access 'Type' from the 'unnest' column\n",
    "FROM\n",
    "    more_pets_and_toys AS t1,\n",
    "    UNNEST(t1.Toys) AS unnested_toy\n",
    "\"\"\"\n",
    "\n",
    "#using duckdb:\n",
    "result = query_df(more_pets_and_toys, 'more_pets_and_toys', query_1).df()\n",
    "print(result)\n",
    "\n",
    "\n"
   ]
  },
  {
   "cell_type": "markdown",
   "id": "943a1883-635b-4f9e-80ed-32dbe0e23ff2",
   "metadata": {},
   "source": [
    "## Writing Efficient Queries\n",
    "\n",
    "\n",
    "    show_amount_of_data_scanned() shows the amount of data the query uses.\n",
    "    \n",
    "    show_time_to_run() prints how long it takes for the query to execute.\n"
   ]
  },
  {
   "cell_type": "markdown",
   "id": "f74bbe25-4c93-461a-9b61-ad27e6c497e9",
   "metadata": {},
   "source": [
    "1. Minimize Data Scanned\n",
    "\n",
    "    Use SELECT only the columns you need, and avoid SELECT *.\n",
    "\n",
    "2. Use Appropriate Filtering Techniques\n",
    "\n",
    "    Prefer WHERE clauses over filtering inside subqueries for better read performance.\n",
    "\n",
    "3. Avoid Expensive Joins\n",
    "\n",
    "    Only join necessary tables.\n",
    "\n",
    "    Use JOIN conditions with indexed or grouped columns when possible.\n",
    "\n",
    "    Consider semi-joins (like IN or EXISTS) for simple existence checks instead of full joins.\n",
    "\n"
   ]
  },
  {
   "cell_type": "code",
   "execution_count": null,
   "id": "341d68b0-dfdc-47b9-8c6e-8d3aa1cb0977",
   "metadata": {},
   "outputs": [],
   "source": []
  }
 ],
 "metadata": {
  "kernelspec": {
   "display_name": "Python [conda env:base] *",
   "language": "python",
   "name": "conda-base-py"
  },
  "language_info": {
   "codemirror_mode": {
    "name": "ipython",
    "version": 3
   },
   "file_extension": ".py",
   "mimetype": "text/x-python",
   "name": "python",
   "nbconvert_exporter": "python",
   "pygments_lexer": "ipython3",
   "version": "3.12.3"
  }
 },
 "nbformat": 4,
 "nbformat_minor": 5
}
