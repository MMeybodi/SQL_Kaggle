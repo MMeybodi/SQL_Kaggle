{
 "cells": [
  {
   "cell_type": "code",
   "execution_count": 70,
   "id": "0a5cbdce-83d7-4c10-a415-a37e4c37b851",
   "metadata": {},
   "outputs": [
    {
     "name": "stdout",
     "output_type": "stream",
     "text": [
      "Collecting pandasql\n",
      "  Downloading pandasql-0.7.3.tar.gz (26 kB)\n",
      "  Preparing metadata (setup.py): started\n",
      "  Preparing metadata (setup.py): finished with status 'done'\n",
      "Requirement already satisfied: numpy in c:\\users\\morteza\\anaconda3\\lib\\site-packages (from pandasql) (1.26.4)\n",
      "Requirement already satisfied: pandas in c:\\users\\morteza\\anaconda3\\lib\\site-packages (from pandasql) (2.2.2)\n",
      "Requirement already satisfied: sqlalchemy in c:\\users\\morteza\\anaconda3\\lib\\site-packages (from pandasql) (2.0.34)\n",
      "Requirement already satisfied: python-dateutil>=2.8.2 in c:\\users\\morteza\\anaconda3\\lib\\site-packages (from pandas->pandasql) (2.9.0.post0)\n",
      "Requirement already satisfied: pytz>=2020.1 in c:\\users\\morteza\\anaconda3\\lib\\site-packages (from pandas->pandasql) (2024.1)\n",
      "Requirement already satisfied: tzdata>=2022.7 in c:\\users\\morteza\\anaconda3\\lib\\site-packages (from pandas->pandasql) (2023.3)\n",
      "Requirement already satisfied: typing-extensions>=4.6.0 in c:\\users\\morteza\\anaconda3\\lib\\site-packages (from sqlalchemy->pandasql) (4.11.0)\n",
      "Requirement already satisfied: greenlet!=0.4.17 in c:\\users\\morteza\\anaconda3\\lib\\site-packages (from sqlalchemy->pandasql) (3.0.1)\n",
      "Requirement already satisfied: six>=1.5 in c:\\users\\morteza\\anaconda3\\lib\\site-packages (from python-dateutil>=2.8.2->pandas->pandasql) (1.16.0)\n",
      "Building wheels for collected packages: pandasql\n",
      "  Building wheel for pandasql (setup.py): started\n",
      "  Building wheel for pandasql (setup.py): finished with status 'done'\n",
      "  Created wheel for pandasql: filename=pandasql-0.7.3-py3-none-any.whl size=26801 sha256=5f8c764c991fbb26ea85a98d127e681dcf3804582a99905912e4a35bbdc49e1e\n",
      "  Stored in directory: c:\\users\\morteza\\appdata\\local\\pip\\cache\\wheels\\15\\a1\\e7\\6f92f295b5272ae5c02365e6b8fa19cb93f16a537090a1cf27\n",
      "Successfully built pandasql\n",
      "Installing collected packages: pandasql\n",
      "Successfully installed pandasql-0.7.3\n",
      "Note: you may need to restart the kernel to use updated packages.\n"
     ]
    }
   ],
   "source": [
    "#pip install pandasql"
   ]
  },
  {
   "cell_type": "code",
   "execution_count": 1,
   "id": "3de8e269-4a35-423a-9130-1c22f54acd19",
   "metadata": {},
   "outputs": [],
   "source": [
    "from pandasql import sqldf"
   ]
  },
  {
   "cell_type": "code",
   "execution_count": 221,
   "id": "6640a16a-4ae2-4193-9323-7a462ff920c9",
   "metadata": {},
   "outputs": [],
   "source": [
    "import os"
   ]
  },
  {
   "cell_type": "code",
   "execution_count": 227,
   "id": "c4e83768-99eb-40ab-8c92-0bb985bdf094",
   "metadata": {},
   "outputs": [],
   "source": [
    "os.chdir(\"./\")"
   ]
  },
  {
   "cell_type": "code",
   "execution_count": 229,
   "id": "b71d08aa-61ef-40a0-a4eb-8dde6c1f45ff",
   "metadata": {},
   "outputs": [
    {
     "name": "stdout",
     "output_type": "stream",
     "text": [
      "E:\\backup\\Data\\Learning\\Kaggle\n"
     ]
    }
   ],
   "source": [
    "print(os.getcwd())"
   ]
  },
  {
   "cell_type": "code",
   "execution_count": 231,
   "id": "2585fb4b-df8c-4df4-8d6e-066c6a2100ca",
   "metadata": {},
   "outputs": [],
   "source": [
    "import pandas as pd\n",
    "\n",
    "df = pd.read_csv(\"netflix_titles.csv\")"
   ]
  },
  {
   "cell_type": "code",
   "execution_count": 233,
   "id": "07e5e174-2d02-49b6-970d-9e5d76b05c24",
   "metadata": {},
   "outputs": [
    {
     "data": {
      "text/plain": [
       "Index(['show_id', 'type', 'title', 'director', 'cast', 'country', 'date_added',\n",
       "       'release_year', 'rating', 'duration', 'listed_in', 'description'],\n",
       "      dtype='object')"
      ]
     },
     "execution_count": 233,
     "metadata": {},
     "output_type": "execute_result"
    }
   ],
   "source": [
    "df.columns"
   ]
  },
  {
   "cell_type": "code",
   "execution_count": 235,
   "id": "e14545e3-98c7-42c2-ae1f-612712374cf1",
   "metadata": {},
   "outputs": [
    {
     "data": {
      "text/plain": [
       "(8807, 12)"
      ]
     },
     "execution_count": 235,
     "metadata": {},
     "output_type": "execute_result"
    }
   ],
   "source": [
    "df.shape"
   ]
  },
  {
   "cell_type": "code",
   "execution_count": 237,
   "id": "3194bbf7-0575-4a76-861d-1e18d5bb9de0",
   "metadata": {},
   "outputs": [
    {
     "data": {
      "text/plain": [
       "'Movie'"
      ]
     },
     "execution_count": 237,
     "metadata": {},
     "output_type": "execute_result"
    }
   ],
   "source": [
    "df.iloc[0, 1]"
   ]
  },
  {
   "cell_type": "code",
   "execution_count": 239,
   "id": "8d972799-702c-46b6-bc3e-35110db88611",
   "metadata": {},
   "outputs": [
    {
     "data": {
      "text/plain": [
       "show_id                                                        s1\n",
       "type                                                        Movie\n",
       "title                                        Dick Johnson Is Dead\n",
       "director                                          Kirsten Johnson\n",
       "cast                                                          NaN\n",
       "country                                             United States\n",
       "date_added                                     September 25, 2021\n",
       "release_year                                                 2020\n",
       "rating                                                      PG-13\n",
       "duration                                                   90 min\n",
       "listed_in                                           Documentaries\n",
       "description     As her father nears the end of his life, filmm...\n",
       "Name: 0, dtype: object"
      ]
     },
     "execution_count": 239,
     "metadata": {},
     "output_type": "execute_result"
    }
   ],
   "source": [
    "df.iloc[0, ]"
   ]
  },
  {
   "cell_type": "code",
   "execution_count": 241,
   "id": "fce99a0e-6ae9-4184-842a-ff02f4e0d966",
   "metadata": {},
   "outputs": [
    {
     "data": {
      "text/plain": [
       "<bound method NDFrame.head of 0         Movie\n",
       "1       TV Show\n",
       "2       TV Show\n",
       "3       TV Show\n",
       "4       TV Show\n",
       "         ...   \n",
       "8802      Movie\n",
       "8803    TV Show\n",
       "8804      Movie\n",
       "8805      Movie\n",
       "8806      Movie\n",
       "Name: type, Length: 8807, dtype: object>"
      ]
     },
     "execution_count": 241,
     "metadata": {},
     "output_type": "execute_result"
    }
   ],
   "source": [
    "df.iloc[:, 1].head"
   ]
  },
  {
   "cell_type": "code",
   "execution_count": 243,
   "id": "6334e965-aebc-4994-baf6-83f4513da738",
   "metadata": {},
   "outputs": [
    {
     "data": {
      "text/html": [
       "<div>\n",
       "<style scoped>\n",
       "    .dataframe tbody tr th:only-of-type {\n",
       "        vertical-align: middle;\n",
       "    }\n",
       "\n",
       "    .dataframe tbody tr th {\n",
       "        vertical-align: top;\n",
       "    }\n",
       "\n",
       "    .dataframe thead th {\n",
       "        text-align: right;\n",
       "    }\n",
       "</style>\n",
       "<table border=\"1\" class=\"dataframe\">\n",
       "  <thead>\n",
       "    <tr style=\"text-align: right;\">\n",
       "      <th></th>\n",
       "      <th>show_id</th>\n",
       "      <th>type</th>\n",
       "      <th>title</th>\n",
       "      <th>director</th>\n",
       "      <th>cast</th>\n",
       "      <th>country</th>\n",
       "      <th>date_added</th>\n",
       "      <th>release_year</th>\n",
       "      <th>rating</th>\n",
       "      <th>duration</th>\n",
       "      <th>listed_in</th>\n",
       "      <th>description</th>\n",
       "    </tr>\n",
       "  </thead>\n",
       "  <tbody>\n",
       "    <tr>\n",
       "      <th>0</th>\n",
       "      <td>s1</td>\n",
       "      <td>Movie</td>\n",
       "      <td>Dick Johnson Is Dead</td>\n",
       "      <td>Kirsten Johnson</td>\n",
       "      <td>NaN</td>\n",
       "      <td>United States</td>\n",
       "      <td>September 25, 2021</td>\n",
       "      <td>2020</td>\n",
       "      <td>PG-13</td>\n",
       "      <td>90 min</td>\n",
       "      <td>Documentaries</td>\n",
       "      <td>As her father nears the end of his life, filmm...</td>\n",
       "    </tr>\n",
       "    <tr>\n",
       "      <th>1</th>\n",
       "      <td>s2</td>\n",
       "      <td>TV Show</td>\n",
       "      <td>Blood &amp; Water</td>\n",
       "      <td>NaN</td>\n",
       "      <td>Ama Qamata, Khosi Ngema, Gail Mabalane, Thaban...</td>\n",
       "      <td>South Africa</td>\n",
       "      <td>September 24, 2021</td>\n",
       "      <td>2021</td>\n",
       "      <td>TV-MA</td>\n",
       "      <td>2 Seasons</td>\n",
       "      <td>International TV Shows, TV Dramas, TV Mysteries</td>\n",
       "      <td>After crossing paths at a party, a Cape Town t...</td>\n",
       "    </tr>\n",
       "    <tr>\n",
       "      <th>2</th>\n",
       "      <td>s3</td>\n",
       "      <td>TV Show</td>\n",
       "      <td>Ganglands</td>\n",
       "      <td>Julien Leclercq</td>\n",
       "      <td>Sami Bouajila, Tracy Gotoas, Samuel Jouy, Nabi...</td>\n",
       "      <td>NaN</td>\n",
       "      <td>September 24, 2021</td>\n",
       "      <td>2021</td>\n",
       "      <td>TV-MA</td>\n",
       "      <td>1 Season</td>\n",
       "      <td>Crime TV Shows, International TV Shows, TV Act...</td>\n",
       "      <td>To protect his family from a powerful drug lor...</td>\n",
       "    </tr>\n",
       "    <tr>\n",
       "      <th>3</th>\n",
       "      <td>s4</td>\n",
       "      <td>TV Show</td>\n",
       "      <td>Jailbirds New Orleans</td>\n",
       "      <td>NaN</td>\n",
       "      <td>NaN</td>\n",
       "      <td>NaN</td>\n",
       "      <td>September 24, 2021</td>\n",
       "      <td>2021</td>\n",
       "      <td>TV-MA</td>\n",
       "      <td>1 Season</td>\n",
       "      <td>Docuseries, Reality TV</td>\n",
       "      <td>Feuds, flirtations and toilet talk go down amo...</td>\n",
       "    </tr>\n",
       "    <tr>\n",
       "      <th>4</th>\n",
       "      <td>s5</td>\n",
       "      <td>TV Show</td>\n",
       "      <td>Kota Factory</td>\n",
       "      <td>NaN</td>\n",
       "      <td>Mayur More, Jitendra Kumar, Ranjan Raj, Alam K...</td>\n",
       "      <td>India</td>\n",
       "      <td>September 24, 2021</td>\n",
       "      <td>2021</td>\n",
       "      <td>TV-MA</td>\n",
       "      <td>2 Seasons</td>\n",
       "      <td>International TV Shows, Romantic TV Shows, TV ...</td>\n",
       "      <td>In a city of coaching centers known to train I...</td>\n",
       "    </tr>\n",
       "  </tbody>\n",
       "</table>\n",
       "</div>"
      ],
      "text/plain": [
       "  show_id     type                  title         director  \\\n",
       "0      s1    Movie   Dick Johnson Is Dead  Kirsten Johnson   \n",
       "1      s2  TV Show          Blood & Water              NaN   \n",
       "2      s3  TV Show              Ganglands  Julien Leclercq   \n",
       "3      s4  TV Show  Jailbirds New Orleans              NaN   \n",
       "4      s5  TV Show           Kota Factory              NaN   \n",
       "\n",
       "                                                cast        country  \\\n",
       "0                                                NaN  United States   \n",
       "1  Ama Qamata, Khosi Ngema, Gail Mabalane, Thaban...   South Africa   \n",
       "2  Sami Bouajila, Tracy Gotoas, Samuel Jouy, Nabi...            NaN   \n",
       "3                                                NaN            NaN   \n",
       "4  Mayur More, Jitendra Kumar, Ranjan Raj, Alam K...          India   \n",
       "\n",
       "           date_added  release_year rating   duration  \\\n",
       "0  September 25, 2021          2020  PG-13     90 min   \n",
       "1  September 24, 2021          2021  TV-MA  2 Seasons   \n",
       "2  September 24, 2021          2021  TV-MA   1 Season   \n",
       "3  September 24, 2021          2021  TV-MA   1 Season   \n",
       "4  September 24, 2021          2021  TV-MA  2 Seasons   \n",
       "\n",
       "                                           listed_in  \\\n",
       "0                                      Documentaries   \n",
       "1    International TV Shows, TV Dramas, TV Mysteries   \n",
       "2  Crime TV Shows, International TV Shows, TV Act...   \n",
       "3                             Docuseries, Reality TV   \n",
       "4  International TV Shows, Romantic TV Shows, TV ...   \n",
       "\n",
       "                                         description  \n",
       "0  As her father nears the end of his life, filmm...  \n",
       "1  After crossing paths at a party, a Cape Town t...  \n",
       "2  To protect his family from a powerful drug lor...  \n",
       "3  Feuds, flirtations and toilet talk go down amo...  \n",
       "4  In a city of coaching centers known to train I...  "
      ]
     },
     "execution_count": 243,
     "metadata": {},
     "output_type": "execute_result"
    }
   ],
   "source": [
    "df.head()"
   ]
  },
  {
   "cell_type": "code",
   "execution_count": 245,
   "id": "a2bb97fe-6a28-439d-a88d-efdb1979bb2c",
   "metadata": {},
   "outputs": [
    {
     "data": {
      "text/plain": [
       "(1925, 2021)"
      ]
     },
     "execution_count": 245,
     "metadata": {},
     "output_type": "execute_result"
    }
   ],
   "source": [
    "df.release_year.min() , df.release_year.max()"
   ]
  },
  {
   "cell_type": "code",
   "execution_count": 247,
   "id": "301a6495-ed57-479f-a80e-b9ba31423b65",
   "metadata": {},
   "outputs": [
    {
     "name": "stdout",
     "output_type": "stream",
     "text": [
      "    show_id     type                      title         director  \\\n",
      "0        s2  TV Show              Blood & Water             None   \n",
      "1        s3  TV Show                  Ganglands  Julien Leclercq   \n",
      "2        s4  TV Show      Jailbirds New Orleans             None   \n",
      "3        s5  TV Show               Kota Factory             None   \n",
      "4        s6  TV Show              Midnight Mass    Mike Flanagan   \n",
      "..      ...      ...                        ...              ...   \n",
      "587   s1469    Movie  What Happened to Mr. Cha?     Kim Dong-kyu   \n",
      "588   s1552  TV Show                      Hilda             None   \n",
      "589   s1697  TV Show               Polly Pocket             None   \n",
      "590   s2921  TV Show              Love Is Blind             None   \n",
      "591   s8438  TV Show     The Netflix Afterparty             None   \n",
      "\n",
      "                                                  cast  \\\n",
      "0    Ama Qamata, Khosi Ngema, Gail Mabalane, Thaban...   \n",
      "1    Sami Bouajila, Tracy Gotoas, Samuel Jouy, Nabi...   \n",
      "2                                                 None   \n",
      "3    Mayur More, Jitendra Kumar, Ranjan Raj, Alam K...   \n",
      "4    Kate Siegel, Zach Gilford, Hamish Linklater, H...   \n",
      "..                                                 ...   \n",
      "587           Cha In-pyo, Cho Dal-hwan, Song Jae-ryong   \n",
      "588  Bella Ramsey, Ameerah Falzon-Ojo, Oliver Nelso...   \n",
      "589  Emily Tennant, Shannon Chan-Kent, Kazumi Evans...   \n",
      "590                        Nick Lachey, Vanessa Lachey   \n",
      "591       David Spade, London Hughes, Fortune Feimster   \n",
      "\n",
      "                                   country          date_added  release_year  \\\n",
      "0                             South Africa  September 24, 2021          2021   \n",
      "1                                     None  September 24, 2021          2021   \n",
      "2                                     None  September 24, 2021          2021   \n",
      "3                                    India  September 24, 2021          2021   \n",
      "4                                     None  September 24, 2021          2021   \n",
      "..                                     ...                 ...           ...   \n",
      "587                            South Korea     January 1, 2021          2021   \n",
      "588  United Kingdom, Canada, United States   December 14, 2020          2021   \n",
      "589         Canada, United States, Ireland   November 15, 2020          2021   \n",
      "590                          United States   February 13, 2020          2021   \n",
      "591                          United States     January 2, 2021          2021   \n",
      "\n",
      "    rating   duration                                          listed_in  \\\n",
      "0    TV-MA  2 Seasons    International TV Shows, TV Dramas, TV Mysteries   \n",
      "1    TV-MA   1 Season  Crime TV Shows, International TV Shows, TV Act...   \n",
      "2    TV-MA   1 Season                             Docuseries, Reality TV   \n",
      "3    TV-MA  2 Seasons  International TV Shows, Romantic TV Shows, TV ...   \n",
      "4    TV-MA   1 Season                 TV Dramas, TV Horror, TV Mysteries   \n",
      "..     ...        ...                                                ...   \n",
      "587  TV-MA    102 min                     Comedies, International Movies   \n",
      "588  TV-Y7  2 Seasons                                           Kids' TV   \n",
      "589   TV-Y  2 Seasons                                           Kids' TV   \n",
      "590  TV-MA   1 Season                      Reality TV, Romantic TV Shows   \n",
      "591  TV-MA   1 Season          Stand-Up Comedy & Talk Shows, TV Comedies   \n",
      "\n",
      "                                           description  \n",
      "0    After crossing paths at a party, a Cape Town t...  \n",
      "1    To protect his family from a powerful drug lor...  \n",
      "2    Feuds, flirtations and toilet talk go down amo...  \n",
      "3    In a city of coaching centers known to train I...  \n",
      "4    The arrival of a charismatic young priest brin...  \n",
      "..                                                 ...  \n",
      "587  With the peak of his career long behind him, a...  \n",
      "588  Fearless, free-spirited Hilda finds new friend...  \n",
      "589  After uncovering a magical locket that allows ...  \n",
      "590  Nick and Vanessa Lachey host this social exper...  \n",
      "591  Hosts David Spade, Fortune Feimster and London...  \n",
      "\n",
      "[592 rows x 12 columns]\n"
     ]
    }
   ],
   "source": [
    "import pandas as pd\n",
    "from pandasql import sqldf\n",
    "\n",
    "query_1 = \"select * from df where release_year > 2020\"\n",
    "\n",
    "result = sqldf(query_1, globals())  # Use 'globals()' instead of 'locals()'\n",
    "print(result)"
   ]
  },
  {
   "cell_type": "code",
   "execution_count": 249,
   "id": "e1876541-de98-4ced-8490-5a53150f9191",
   "metadata": {},
   "outputs": [
    {
     "name": "stdout",
     "output_type": "stream",
     "text": [
      "                                                  cast\n",
      "0    Ama Qamata, Khosi Ngema, Gail Mabalane, Thaban...\n",
      "1    Sami Bouajila, Tracy Gotoas, Samuel Jouy, Nabi...\n",
      "2                                                 None\n",
      "3    Mayur More, Jitendra Kumar, Ranjan Raj, Alam K...\n",
      "4    Kate Siegel, Zach Gilford, Hamish Linklater, H...\n",
      "..                                                 ...\n",
      "587           Cha In-pyo, Cho Dal-hwan, Song Jae-ryong\n",
      "588  Bella Ramsey, Ameerah Falzon-Ojo, Oliver Nelso...\n",
      "589  Emily Tennant, Shannon Chan-Kent, Kazumi Evans...\n",
      "590                        Nick Lachey, Vanessa Lachey\n",
      "591       David Spade, London Hughes, Fortune Feimster\n",
      "\n",
      "[592 rows x 1 columns]\n"
     ]
    }
   ],
   "source": [
    "import pandas as pd\n",
    "from pandasql import sqldf\n",
    "\n",
    "query_1 = \"select `cast` from df where release_year > 2020\"\n",
    "# you must use `` becuase cast has a mening in SQL\n",
    "result = sqldf(query_1, globals())  # Use 'globals()' instead of 'locals()'\n",
    "print(result)"
   ]
  },
  {
   "cell_type": "code",
   "execution_count": 251,
   "id": "553262a9-7720-47f1-b1b3-6d6b836e10e9",
   "metadata": {},
   "outputs": [
    {
     "name": "stdout",
     "output_type": "stream",
     "text": [
      "   id   name  age\n",
      "0   1  Alice   25\n",
      "1   2    Bob   30\n"
     ]
    }
   ],
   "source": [
    "import pandas as pd\n",
    "from pandasql import sqldf\n",
    "\n",
    "# Sample DataFrame\n",
    "df_1 = pd.DataFrame({\n",
    "    \"id\": [1, 2, 3],\n",
    "    \"name\": [\"Alice\", \"Bob\", \"Charlie\"],\n",
    "    \"age\": [25, 30, 22]\n",
    "})\n",
    "\n",
    "# SQL Query\n",
    "query = \"SELECT * FROM df_1 WHERE age > 23\"\n",
    "result = sqldf(query, globals())  # Use globals() to access df\n",
    "print(result)"
   ]
  },
  {
   "cell_type": "code",
   "execution_count": 253,
   "id": "651a4d75-e50f-4086-9814-1f6be18c69f5",
   "metadata": {},
   "outputs": [
    {
     "name": "stdout",
     "output_type": "stream",
     "text": [
      "   count()\n",
      "0        3\n"
     ]
    }
   ],
   "source": [
    "# count()\n",
    "query_1 = \"select count() from df where director = 'Julien Leclercq'\"\n",
    "\n",
    "result = sqldf(query_1, globals())  # Use 'globals()' instead of 'locals()'\n",
    "print(result)"
   ]
  },
  {
   "cell_type": "code",
   "execution_count": 255,
   "id": "1811609d-b1ad-4678-94a4-e2bc82bec915",
   "metadata": {},
   "outputs": [
    {
     "name": "stdout",
     "output_type": "stream",
     "text": [
      "      type  count(country)\n",
      "0    Movie            5691\n",
      "1  TV Show            2285\n"
     ]
    }
   ],
   "source": [
    "# group by\n",
    "query_1 = \"select type, count(country) from df group by type\"\n",
    "# note that you need to use ',' after select\n",
    "result = sqldf(query_1, globals())  # Use 'globals()' instead of 'locals()'\n",
    "print(result)"
   ]
  },
  {
   "cell_type": "code",
   "execution_count": 257,
   "id": "acc4802a-67a0-4544-bd57-1169fb70e443",
   "metadata": {},
   "outputs": [
    {
     "name": "stdout",
     "output_type": "stream",
     "text": [
      "      type  count(1)\n",
      "0    Movie      6131\n",
      "1  TV Show      2676\n"
     ]
    }
   ],
   "source": [
    "# group by, if we put 1 in count()\n",
    "query_1 = \"select type, count(1) from df group by type\"\n",
    "# note that you need to use ',' after select\n",
    "result = sqldf(query_1, globals())  # Use 'globals()' instead of 'locals()'\n",
    "print(result)"
   ]
  },
  {
   "cell_type": "code",
   "execution_count": 259,
   "id": "e514615e-a0b1-4b3a-b0a2-bcd9188fe7ae",
   "metadata": {},
   "outputs": [
    {
     "name": "stdout",
     "output_type": "stream",
     "text": [
      "   count()\n",
      "0     6131\n",
      "1     2676\n"
     ]
    }
   ],
   "source": [
    "# group by, if we put 1 in count()\n",
    "# is the same as:\n",
    "query_1 = \"select count() from df group by type\"\n",
    "\n",
    "result = sqldf(query_1, globals())  # Use 'globals()' instead of 'locals()'\n",
    "print(result)"
   ]
  },
  {
   "cell_type": "code",
   "execution_count": 262,
   "id": "735bac8c-1f99-4584-b42a-491fd469c28a",
   "metadata": {},
   "outputs": [
    {
     "name": "stdout",
     "output_type": "stream",
     "text": [
      "  rating  count(country)\n",
      "0     PG             281\n",
      "1  TV-14            1930\n",
      "2  TV-MA            2931\n",
      "3  TV-PG             773\n",
      "4   TV-Y             227\n"
     ]
    }
   ],
   "source": [
    "# GROUP BY ... HAVING\n",
    "\n",
    "query_1 = \"select rating, count(country) from df group by rating having release_year > 2020 \"\n",
    "# note that you need to use ',' after select\n",
    "result = sqldf(query_1, globals())  # Use 'globals()' instead of 'locals()'\n",
    "print(result)"
   ]
  },
  {
   "cell_type": "code",
   "execution_count": 264,
   "id": "5f4ad023-3e4c-4258-a2dc-407d0b8f9d2d",
   "metadata": {},
   "outputs": [
    {
     "name": "stdout",
     "output_type": "stream",
     "text": [
      "                    director  count()\n",
      "0                       None     2634\n",
      "1              Rajiv Chilaka       19\n",
      "2     Raúl Campos, Jan Suter       18\n",
      "3                Suhas Kadav       16\n",
      "4               Marcus Raboy       16\n",
      "...                      ...      ...\n",
      "4524              Aamir Khan        1\n",
      "4525            Aamir Bashir        1\n",
      "4526         Aadish Keluskar        1\n",
      "4527               A. Salaam        1\n",
      "4528            A. Raajdheep        1\n",
      "\n",
      "[4529 rows x 2 columns]\n"
     ]
    }
   ],
   "source": [
    "#order by\n",
    "# which directors have the most work?\n",
    "query_1 = \"select director, count() from df group by director order by count() desc\"\n",
    "\n",
    "result = sqldf(query_1, globals())  # Use 'globals()' instead of 'locals()'\n",
    "print(result)"
   ]
  },
  {
   "cell_type": "code",
   "execution_count": 266,
   "id": "1b850514-f886-4289-86c3-430ba7ff775a",
   "metadata": {},
   "outputs": [
    {
     "name": "stdout",
     "output_type": "stream",
     "text": [
      "                             title  \\\n",
      "0                         Barbecue   \n",
      "1              The Look of Silence   \n",
      "2                  Shaun the Sheep   \n",
      "3     The Professor and the Madman   \n",
      "4                         The Take   \n",
      "...                            ...   \n",
      "8802        Westside vs. the World   \n",
      "8803        World's Weirdest Homes   \n",
      "8804                          Yoko   \n",
      "8805                           YOM   \n",
      "8806                   Zombie Dumb   \n",
      "\n",
      "                                                country  num_countries  \n",
      "0     Australia, Armenia, Japan, Jordan, Mexico, Mon...           12.0  \n",
      "1     Denmark, Indonesia, Finland, Norway, United Ki...           10.0  \n",
      "2     United Kingdom, Finland, Germany, United State...            8.0  \n",
      "3     Ireland, France, Iceland, United States, Mexic...            8.0  \n",
      "4     United Kingdom, France, United States, Belgium...            7.0  \n",
      "...                                                 ...            ...  \n",
      "8802                                               None            NaN  \n",
      "8803                                               None            NaN  \n",
      "8804                                               None            NaN  \n",
      "8805                                               None            NaN  \n",
      "8806                                               None            NaN  \n",
      "\n",
      "[8807 rows x 3 columns]\n"
     ]
    }
   ],
   "source": [
    "# AS , case when\n",
    "#which movies and tv shows have highest number of countries?\n",
    "query_1 = \"select title, country,CASE WHEN country = 'None' THEN 0 ELSE LENGTH(country) - LENGTH(REPLACE(country, ',', '')) + 1 END AS num_countries from df order by num_countries desc\"\n",
    "\n",
    "result = sqldf(query_1, globals())  # Use 'globals()' instead of 'locals()'\n",
    "print(result)"
   ]
  },
  {
   "cell_type": "code",
   "execution_count": 268,
   "id": "1628dddd-864e-4436-b3f8-159a86af964d",
   "metadata": {},
   "outputs": [
    {
     "name": "stdout",
     "output_type": "stream",
     "text": [
      "   decade  count()\n",
      "0    2010     5927\n",
      "1    2020     1545\n",
      "2    2000      810\n",
      "3    1990      274\n",
      "4    1980      129\n",
      "5    1970       70\n",
      "6    1960       25\n",
      "7    1940       15\n",
      "8    1950       11\n",
      "9    1920        1\n"
     ]
    }
   ],
   "source": [
    "# AS , count, group by, order by\n",
    "#which decade has the most movies and tv shows?\n",
    "query_1 = \"select  (release_year / 10) * 10 as decade, count() from df group by decade order by count() desc\"\n",
    "\n",
    "result = sqldf(query_1, globals())  # Use 'globals()' instead of 'locals()'\n",
    "print(result)"
   ]
  },
  {
   "cell_type": "code",
   "execution_count": 270,
   "id": "7537fa9b-8ada-4033-8816-379b497be822",
   "metadata": {},
   "outputs": [
    {
     "name": "stdout",
     "output_type": "stream",
     "text": [
      "    release_year  title_len_avg\n",
      "0           1925      33.000000\n",
      "1           1942      17.000000\n",
      "2           1943      36.666667\n",
      "3           1944      26.666667\n",
      "4           1945      23.000000\n",
      "..           ...            ...\n",
      "69          2017      17.672481\n",
      "70          2018      18.044464\n",
      "71          2019      18.329126\n",
      "72          2020      19.000000\n",
      "73          2021      18.415541\n",
      "\n",
      "[74 rows x 2 columns]\n"
     ]
    },
    {
     "data": {
      "image/png": "[encoded data removed]",
      "text/plain": [
       "<Figure size 1000x600 with 1 Axes>"
      ]
     },
     "metadata": {},
     "output_type": "display_data"
    }
   ],
   "source": [
    "#plot of length of titles vs time\n",
    "query_1 = \"select release_year , avg(length(title)) as title_len_avg from df group by release_year  order by release_year  \"\n",
    "\n",
    "result = sqldf(query_1, globals())  # Use 'globals()' instead of 'locals()'\n",
    "print(result)\n",
    "\n",
    "import matplotlib.pyplot as plt\n",
    "import seaborn as sns\n",
    "plt.figure(figsize=(10, 6))\n",
    "plt.plot(result['release_year'], result['title_len_avg'],marker='o', color='b', linestyle='-', linewidth=2, markersize=5)\n",
    "sns.regplot(x='release_year', y='title_len_avg', data=result, scatter=False, color='r', line_kws={\"linewidth\": 1, \"color\": \"r\"}, order=3)\n",
    "plt.xlabel('Release Year')\n",
    "plt.ylabel('Average Title Length')\n",
    "plt.title('Average Title Length by Release Year')\n",
    "plt.grid(True)\n",
    "\n",
    "#note that order in th regplot (1 to higher), changes the regression line"
   ]
  },
  {
   "cell_type": "code",
   "execution_count": 272,
   "id": "553526c3-3f45-433f-90da-e708ffad5b03",
   "metadata": {},
   "outputs": [
    {
     "name": "stdout",
     "output_type": "stream",
     "text": [
      "   num_decades\n",
      "0           10\n"
     ]
    }
   ],
   "source": [
    "#distinct\n",
    "#how many decades are there?\n",
    "query_1 = \"select count(distinct (release_year / 10) * 10) AS num_decades FROM df\"\n",
    "\n",
    "result = sqldf(query_1, globals())  # Use 'globals()' instead of 'locals()'\n",
    "print(result)"
   ]
  },
  {
   "cell_type": "code",
   "execution_count": 274,
   "id": "c6ba069b-a99b-4479-b0b0-d712f364324f",
   "metadata": {},
   "outputs": [
    {
     "name": "stdout",
     "output_type": "stream",
     "text": [
      "                          title  release_year\n",
      "0          Dick Johnson Is Dead          2020\n",
      "1                  The Starling          2021\n",
      "2                     Grown Ups          2010\n",
      "3                    Dark Skies          2013\n",
      "4                      Paranoia          2013\n",
      "...                         ...           ...\n",
      "2103                  يوم الدين          2018\n",
      "2104    Yo-Kai Watch: The Movie          2016\n",
      "2105                Yoga Hosers          2016\n",
      "2106  You Can’t Fight Christmas          2017\n",
      "2107                Young Adult          2011\n",
      "\n",
      "[2108 rows x 2 columns]\n"
     ]
    }
   ],
   "source": [
    "# with ... as, like\n",
    "\n",
    "query_1 = \"\"\"\n",
    "    with New_US_Movies as\n",
    "    (select title, release_year from df where release_year > 2009 and type = 'Movie'and country like '%United State%' )\n",
    "    select title, release_year from New_US_Movies\n",
    "    \"\"\"\n",
    "\n",
    "result = sqldf(query_1, globals())  # Use 'globals()' instead of 'locals()'\n",
    "print(result)"
   ]
  },
  {
   "cell_type": "code",
   "execution_count": 276,
   "id": "831c56db-fcdf-4cd1-b6d5-390c5827d20c",
   "metadata": {},
   "outputs": [],
   "source": [
    "import pandas as pd\n",
    "\n",
    "#df_1 = pd.read_csv(\"rating.csv\", low_memory = False)\n",
    "#df_2 = pd.read_csv(\"anime.csv\")"
   ]
  },
  {
   "cell_type": "code",
   "execution_count": 278,
   "id": "571125bb-7391-46f3-8da0-4625409acc92",
   "metadata": {},
   "outputs": [],
   "source": [
    "# choose 100 random anime_id to reduce the size of the datasets\n",
    "#random_anime_ids = df_1['anime_id'].drop_duplicates().sample(n=100, random_state=42)\n",
    "#print(random_anime_ids)"
   ]
  },
  {
   "cell_type": "code",
   "execution_count": 280,
   "id": "261aa7af-7fb6-43ff-9cb9-786031fbb910",
   "metadata": {},
   "outputs": [],
   "source": [
    "#reduce the size of the datasets\n",
    "#df_3 = df_1[df_1['anime_id'].isin(random_anime_ids)]\n",
    "#df_4 = df_2[df_2['anime_id'].isin(random_anime_ids)]"
   ]
  },
  {
   "cell_type": "code",
   "execution_count": 282,
   "id": "23c8f81c-1493-4194-a2a6-d55d8aa08131",
   "metadata": {},
   "outputs": [],
   "source": [
    "#df_3.to_csv(\"rating_reduced_size.csv\", index=False)  \n",
    "#df_4.to_csv(\"anime_reduced_size.csv\", index=False) "
   ]
  },
  {
   "cell_type": "code",
   "execution_count": 284,
   "id": "aa9b27db-b0a4-4587-b887-1d83a3143002",
   "metadata": {},
   "outputs": [],
   "source": [
    "df_3 = pd.read_csv(\"rating_reduced_size.csv\", low_memory = False)\n",
    "df_4 = pd.read_csv(\"anime_reduced_size.csv\")"
   ]
  },
  {
   "cell_type": "code",
   "execution_count": 286,
   "id": "2274e758-fccd-4316-a932-fa5bb23a2fcf",
   "metadata": {},
   "outputs": [
    {
     "data": {
      "text/plain": [
       "(Index(['user_id', 'anime_id', 'rating'], dtype='object'),\n",
       " Index(['anime_id', 'name', 'genre', 'type', 'episodes', 'rating', 'members'], dtype='object'))"
      ]
     },
     "execution_count": 286,
     "metadata": {},
     "output_type": "execute_result"
    }
   ],
   "source": [
    "df_3.columns  , df_4.columns"
   ]
  },
  {
   "cell_type": "code",
   "execution_count": 288,
   "id": "9807260f-5ce2-472f-a553-9a7e4d164799",
   "metadata": {},
   "outputs": [
    {
     "data": {
      "text/html": [
       "<div>\n",
       "<style scoped>\n",
       "    .dataframe tbody tr th:only-of-type {\n",
       "        vertical-align: middle;\n",
       "    }\n",
       "\n",
       "    .dataframe tbody tr th {\n",
       "        vertical-align: top;\n",
       "    }\n",
       "\n",
       "    .dataframe thead th {\n",
       "        text-align: right;\n",
       "    }\n",
       "</style>\n",
       "<table border=\"1\" class=\"dataframe\">\n",
       "  <thead>\n",
       "    <tr style=\"text-align: right;\">\n",
       "      <th></th>\n",
       "      <th>user_id</th>\n",
       "      <th>anime_id</th>\n",
       "      <th>rating</th>\n",
       "    </tr>\n",
       "  </thead>\n",
       "  <tbody>\n",
       "    <tr>\n",
       "      <th>0</th>\n",
       "      <td>1</td>\n",
       "      <td>15451</td>\n",
       "      <td>10</td>\n",
       "    </tr>\n",
       "    <tr>\n",
       "      <th>1</th>\n",
       "      <td>1</td>\n",
       "      <td>20785</td>\n",
       "      <td>-1</td>\n",
       "    </tr>\n",
       "    <tr>\n",
       "      <th>2</th>\n",
       "      <td>4</td>\n",
       "      <td>17777</td>\n",
       "      <td>-1</td>\n",
       "    </tr>\n",
       "    <tr>\n",
       "      <th>3</th>\n",
       "      <td>5</td>\n",
       "      <td>1887</td>\n",
       "      <td>3</td>\n",
       "    </tr>\n",
       "    <tr>\n",
       "      <th>4</th>\n",
       "      <td>5</td>\n",
       "      <td>9220</td>\n",
       "      <td>5</td>\n",
       "    </tr>\n",
       "  </tbody>\n",
       "</table>\n",
       "</div>"
      ],
      "text/plain": [
       "   user_id  anime_id  rating\n",
       "0        1     15451      10\n",
       "1        1     20785      -1\n",
       "2        4     17777      -1\n",
       "3        5      1887       3\n",
       "4        5      9220       5"
      ]
     },
     "execution_count": 288,
     "metadata": {},
     "output_type": "execute_result"
    }
   ],
   "source": [
    "df_3.head()"
   ]
  },
  {
   "cell_type": "code",
   "execution_count": 290,
   "id": "05d328a0-ad8a-4632-99aa-a35fdc3d5dcd",
   "metadata": {},
   "outputs": [
    {
     "data": {
      "text/html": [
       "<div>\n",
       "<style scoped>\n",
       "    .dataframe tbody tr th:only-of-type {\n",
       "        vertical-align: middle;\n",
       "    }\n",
       "\n",
       "    .dataframe tbody tr th {\n",
       "        vertical-align: top;\n",
       "    }\n",
       "\n",
       "    .dataframe thead th {\n",
       "        text-align: right;\n",
       "    }\n",
       "</style>\n",
       "<table border=\"1\" class=\"dataframe\">\n",
       "  <thead>\n",
       "    <tr style=\"text-align: right;\">\n",
       "      <th></th>\n",
       "      <th>anime_id</th>\n",
       "      <th>name</th>\n",
       "      <th>genre</th>\n",
       "      <th>type</th>\n",
       "      <th>episodes</th>\n",
       "      <th>rating</th>\n",
       "      <th>members</th>\n",
       "    </tr>\n",
       "  </thead>\n",
       "  <tbody>\n",
       "    <tr>\n",
       "      <th>0</th>\n",
       "      <td>28851</td>\n",
       "      <td>Koe no Katachi</td>\n",
       "      <td>Drama, School, Shounen</td>\n",
       "      <td>Movie</td>\n",
       "      <td>1</td>\n",
       "      <td>9.05</td>\n",
       "      <td>102733</td>\n",
       "    </tr>\n",
       "    <tr>\n",
       "      <th>1</th>\n",
       "      <td>4107</td>\n",
       "      <td>Tengen Toppa Gurren Lagann Movie: Gurren-hen</td>\n",
       "      <td>Action, Comedy, Mecha</td>\n",
       "      <td>Movie</td>\n",
       "      <td>1</td>\n",
       "      <td>8.22</td>\n",
       "      <td>72933</td>\n",
       "    </tr>\n",
       "    <tr>\n",
       "      <th>2</th>\n",
       "      <td>4053</td>\n",
       "      <td>Prince of Tennis: The National Tournament Finals</td>\n",
       "      <td>Comedy, School, Shounen, Sports</td>\n",
       "      <td>OVA</td>\n",
       "      <td>7</td>\n",
       "      <td>8.15</td>\n",
       "      <td>21020</td>\n",
       "    </tr>\n",
       "    <tr>\n",
       "      <th>3</th>\n",
       "      <td>15451</td>\n",
       "      <td>High School DxD New</td>\n",
       "      <td>Action, Comedy, Demons, Ecchi, Harem, Romance,...</td>\n",
       "      <td>TV</td>\n",
       "      <td>12</td>\n",
       "      <td>7.87</td>\n",
       "      <td>266657</td>\n",
       "    </tr>\n",
       "    <tr>\n",
       "      <th>4</th>\n",
       "      <td>1887</td>\n",
       "      <td>Lucky☆Star</td>\n",
       "      <td>Comedy, Parody, School, Slice of Life</td>\n",
       "      <td>TV</td>\n",
       "      <td>24</td>\n",
       "      <td>7.87</td>\n",
       "      <td>305837</td>\n",
       "    </tr>\n",
       "  </tbody>\n",
       "</table>\n",
       "</div>"
      ],
      "text/plain": [
       "   anime_id                                              name  \\\n",
       "0     28851                                    Koe no Katachi   \n",
       "1      4107      Tengen Toppa Gurren Lagann Movie: Gurren-hen   \n",
       "2      4053  Prince of Tennis: The National Tournament Finals   \n",
       "3     15451                               High School DxD New   \n",
       "4      1887                                        Lucky☆Star   \n",
       "\n",
       "                                               genre   type  episodes  rating  \\\n",
       "0                             Drama, School, Shounen  Movie         1    9.05   \n",
       "1                              Action, Comedy, Mecha  Movie         1    8.22   \n",
       "2                    Comedy, School, Shounen, Sports    OVA         7    8.15   \n",
       "3  Action, Comedy, Demons, Ecchi, Harem, Romance,...     TV        12    7.87   \n",
       "4              Comedy, Parody, School, Slice of Life     TV        24    7.87   \n",
       "\n",
       "   members  \n",
       "0   102733  \n",
       "1    72933  \n",
       "2    21020  \n",
       "3   266657  \n",
       "4   305837  "
      ]
     },
     "execution_count": 290,
     "metadata": {},
     "output_type": "execute_result"
    }
   ],
   "source": [
    "df_4.head()"
   ]
  },
  {
   "cell_type": "code",
   "execution_count": 292,
   "id": "81e4a3bb-2e32-4cd3-8f8b-c2bca5201ee0",
   "metadata": {},
   "outputs": [
    {
     "data": {
      "text/plain": [
       "((68423, 3), (100, 7))"
      ]
     },
     "execution_count": 292,
     "metadata": {},
     "output_type": "execute_result"
    }
   ],
   "source": [
    "df_3.shape , df_4.shape"
   ]
  },
  {
   "cell_type": "code",
   "execution_count": 294,
   "id": "ef2bc087-bf39-4c7d-9bbc-b5e956016208",
   "metadata": {},
   "outputs": [
    {
     "name": "stdout",
     "output_type": "stream",
     "text": [
      "                                                 name  avg_rating  rating\n",
      "0                                   Scrapped Princess    5.984932    7.52\n",
      "1                    Green Green Thirteen: Erolutions    4.717622    6.26\n",
      "2                            Astro Boy: Tetsuwan Atom    5.119883    7.02\n",
      "3                 Chicchana Yukitsukai Sugar Specials    4.840237    7.09\n",
      "4                        Chou Denji Robo Combattler V    3.937500    6.93\n",
      "..                                                ...         ...     ...\n",
      "95                                  Sakamoto desu ga?    6.177234    7.67\n",
      "96  Minions x Godzilla x Toho Cinema Collaboration...    4.250000    5.75\n",
      "97                Persona 3 the Movie Meets “Walkman”    2.687500    5.91\n",
      "98               Hikari: Kariya wo Tsunagu Monogatari    2.500000    5.52\n",
      "99                                 Ragnastrike Angels    3.280374    4.42\n",
      "\n",
      "[100 rows x 3 columns]\n"
     ]
    }
   ],
   "source": [
    "# join \n",
    "#join comes before group\n",
    "#In SQL, JOIN happens first, then filtering (WHERE), then aggregation (GROUP BY), and finally ordering (ORDER BY).\n",
    "query_1 = \"\"\"\n",
    "    select df_4.name, avg(df_3.rating) as avg_rating , df_4.rating\n",
    "    from df_3\n",
    "    inner join df_4 on df_3.anime_id = df_4.anime_id\n",
    "    group by df_3.anime_id\n",
    "    \"\"\"\n",
    "\n",
    "result = sqldf(query_1, globals())  # Use 'globals()' instead of 'locals()'\n",
    "print(result)"
   ]
  },
  {
   "cell_type": "code",
   "execution_count": 296,
   "id": "e11bb972-4a73-45d5-871a-e42a26b0b4ac",
   "metadata": {},
   "outputs": [
    {
     "name": "stdout",
     "output_type": "stream",
     "text": [
      "                                                 name  avg_rating  rating\n",
      "0                                   Scrapped Princess    7.661948    7.52\n",
      "1                    Green Green Thirteen: Erolutions    6.487488    6.26\n",
      "2                            Astro Boy: Tetsuwan Atom    7.207843    7.02\n",
      "3                 Chicchana Yukitsukai Sugar Specials    7.294118    7.09\n",
      "4                        Chou Denji Robo Combattler V    6.900000    6.93\n",
      "..                                                ...         ...     ...\n",
      "95                                  Sakamoto desu ga?    7.754862    7.67\n",
      "96  Minions x Godzilla x Toho Cinema Collaboration...    4.250000    5.75\n",
      "97                Persona 3 the Movie Meets “Walkman”    4.900000    5.91\n",
      "98               Hikari: Kariya wo Tsunagu Monogatari    6.000000    5.52\n",
      "99                                 Ragnastrike Angels    4.725000    4.42\n",
      "\n",
      "[100 rows x 3 columns]\n"
     ]
    }
   ],
   "source": [
    "# join , case when\n",
    "query_1 = \"\"\"\n",
    "    select df_4.name, avg(case when df_3.rating > -1 then df_3.rating end) as avg_rating , df_4.rating\n",
    "    from df_3\n",
    "    inner join df_4 on df_3.anime_id = df_4.anime_id\n",
    "    group by df_3.anime_id\n",
    "    \"\"\"\n",
    "\n",
    "result = sqldf(query_1, globals())  # Use 'globals()' instead of 'locals()'\n",
    "print(result)"
   ]
  },
  {
   "cell_type": "code",
   "execution_count": null,
   "id": "82200cd9-b90c-4e5f-a418-4b529db024ff",
   "metadata": {},
   "outputs": [],
   "source": []
  }
 ],
 "metadata": {
  "kernelspec": {
   "display_name": "Python [conda env:base] *",
   "language": "python",
   "name": "conda-base-py"
  },
  "language_info": {
   "codemirror_mode": {
    "name": "ipython",
    "version": 3
   },
   "file_extension": ".py",
   "mimetype": "text/x-python",
   "name": "python",
   "nbconvert_exporter": "python",
   "pygments_lexer": "ipython3",
   "version": "3.12.7"
  }
 },
 "nbformat": 4,
 "nbformat_minor": 5
}
